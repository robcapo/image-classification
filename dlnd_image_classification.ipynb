{
 "cells": [
  {
   "cell_type": "markdown",
   "metadata": {
    "collapsed": true,
    "deletable": true,
    "editable": true
   },
   "source": [
    "# Image Classification\n",
    "In this project, you'll classify images from the [CIFAR-10 dataset](https://www.cs.toronto.edu/~kriz/cifar.html).  The dataset consists of airplanes, dogs, cats, and other objects. You'll preprocess the images, then train a convolutional neural network on all the samples. The images need to be normalized and the labels need to be one-hot encoded.  You'll get to apply what you learned and build a convolutional, max pooling, dropout, and fully connected layers.  At the end, you'll get to see your neural network's predictions on the sample images.\n",
    "## Get the Data\n",
    "Run the following cell to download the [CIFAR-10 dataset for python](https://www.cs.toronto.edu/~kriz/cifar-10-python.tar.gz)."
   ]
  },
  {
   "cell_type": "code",
   "execution_count": 6,
   "metadata": {
    "collapsed": false,
    "deletable": true,
    "editable": true
   },
   "outputs": [
    {
     "name": "stdout",
     "output_type": "stream",
     "text": [
      "All files found!\n"
     ]
    }
   ],
   "source": [
    "\"\"\"\n",
    "DON'T MODIFY ANYTHING IN THIS CELL THAT IS BELOW THIS LINE\n",
    "\"\"\"\n",
    "from urllib.request import urlretrieve\n",
    "from os.path import isfile, isdir\n",
    "from tqdm import tqdm\n",
    "import problem_unittests as tests\n",
    "import tarfile\n",
    "from sklearn.preprocessing import LabelBinarizer\n",
    "\n",
    "cifar10_dataset_folder_path = 'cifar-10-batches-py'\n",
    "\n",
    "class DLProgress(tqdm):\n",
    "    last_block = 0\n",
    "\n",
    "    def hook(self, block_num=1, block_size=1, total_size=None):\n",
    "        self.total = total_size\n",
    "        self.update((block_num - self.last_block) * block_size)\n",
    "        self.last_block = block_num\n",
    "\n",
    "if not isfile('cifar-10-python.tar.gz'):\n",
    "    with DLProgress(unit='B', unit_scale=True, miniters=1, desc='CIFAR-10 Dataset') as pbar:\n",
    "        urlretrieve(\n",
    "            'https://www.cs.toronto.edu/~kriz/cifar-10-python.tar.gz',\n",
    "            'cifar-10-python.tar.gz',\n",
    "            pbar.hook)\n",
    "\n",
    "if not isdir(cifar10_dataset_folder_path):\n",
    "    with tarfile.open('cifar-10-python.tar.gz') as tar:\n",
    "        tar.extractall()\n",
    "        tar.close()\n",
    "\n",
    "\n",
    "tests.test_folder_path(cifar10_dataset_folder_path)"
   ]
  },
  {
   "cell_type": "markdown",
   "metadata": {
    "deletable": true,
    "editable": true
   },
   "source": [
    "## Explore the Data\n",
    "The dataset is broken into batches to prevent your machine from running out of memory.  The CIFAR-10 dataset consists of 5 batches, named `data_batch_1`, `data_batch_2`, etc.. Each batch contains the labels and images that are one of the following:\n",
    "* airplane\n",
    "* automobile\n",
    "* bird\n",
    "* cat\n",
    "* deer\n",
    "* dog\n",
    "* frog\n",
    "* horse\n",
    "* ship\n",
    "* truck\n",
    "\n",
    "Understanding a dataset is part of making predictions on the data.  Play around with the code cell below by changing the `batch_id` and `sample_id`. The `batch_id` is the id for a batch (1-5). The `sample_id` is the id for a image and label pair in the batch.\n",
    "\n",
    "Ask yourself \"What are all possible labels?\", \"What is the range of values for the image data?\", \"Are the labels in order or random?\".  Answers to questions like these will help you preprocess the data and end up with better predictions."
   ]
  },
  {
   "cell_type": "code",
   "execution_count": 19,
   "metadata": {
    "collapsed": false,
    "deletable": true,
    "editable": true
   },
   "outputs": [
    {
     "ename": "NameError",
     "evalue": "name 'cifar10_dataset_folder_path' is not defined",
     "output_type": "error",
     "traceback": [
      "\u001b[0;31m---------------------------------------------------------------------------\u001b[0m",
      "\u001b[0;31mNameError\u001b[0m                                 Traceback (most recent call last)",
      "\u001b[0;32m<ipython-input-19-88a7e6b7fb5d>\u001b[0m in \u001b[0;36m<module>\u001b[0;34m()\u001b[0m\n\u001b[1;32m      8\u001b[0m \u001b[0mbatch_id\u001b[0m \u001b[0;34m=\u001b[0m \u001b[0;36m1\u001b[0m\u001b[0;34m\u001b[0m\u001b[0m\n\u001b[1;32m      9\u001b[0m \u001b[0msample_id\u001b[0m \u001b[0;34m=\u001b[0m \u001b[0;36m7\u001b[0m\u001b[0;34m\u001b[0m\u001b[0m\n\u001b[0;32m---> 10\u001b[0;31m \u001b[0mhelper\u001b[0m\u001b[0;34m.\u001b[0m\u001b[0mdisplay_stats\u001b[0m\u001b[0;34m(\u001b[0m\u001b[0mcifar10_dataset_folder_path\u001b[0m\u001b[0;34m,\u001b[0m \u001b[0mbatch_id\u001b[0m\u001b[0;34m,\u001b[0m \u001b[0msample_id\u001b[0m\u001b[0;34m)\u001b[0m\u001b[0;34m\u001b[0m\u001b[0m\n\u001b[0m",
      "\u001b[0;31mNameError\u001b[0m: name 'cifar10_dataset_folder_path' is not defined"
     ]
    }
   ],
   "source": [
    "%matplotlib inline\n",
    "%config InlineBackend.figure_format = 'retina'\n",
    "\n",
    "import helper\n",
    "import numpy as np\n",
    "\n",
    "# Explore the dataset\n",
    "batch_id = 1\n",
    "sample_id = 7\n",
    "helper.display_stats(cifar10_dataset_folder_path, batch_id, sample_id)"
   ]
  },
  {
   "cell_type": "markdown",
   "metadata": {
    "deletable": true,
    "editable": true
   },
   "source": [
    "## Implement Preprocess Functions\n",
    "### Normalize\n",
    "In the cell below, implement the `normalize` function to take in image data, `x`, and return it as a normalized Numpy array. The values should be in the range of 0 to 1, inclusive.  The return object should be the same shape as `x`."
   ]
  },
  {
   "cell_type": "code",
   "execution_count": 42,
   "metadata": {
    "collapsed": false,
    "deletable": true,
    "editable": true
   },
   "outputs": [
    {
     "name": "stdout",
     "output_type": "stream",
     "text": [
      "Tests Passed\n"
     ]
    }
   ],
   "source": [
    "def normalize(x):\n",
    "    \"\"\"\n",
    "    Normalize a list of sample image data in the range of 0 to 1\n",
    "    : x: List of image data.  The image shape is (32, 32, 3)\n",
    "    : return: Numpy array of normalize data\n",
    "    \"\"\"\n",
    "    return (x - x.min()) / (x.max() - x.min())\n",
    "\n",
    "\n",
    "\"\"\"\n",
    "DON'T MODIFY ANYTHING IN THIS CELL THAT IS BELOW THIS LINE\n",
    "\"\"\"\n",
    "tests.test_normalize(normalize)"
   ]
  },
  {
   "cell_type": "markdown",
   "metadata": {
    "deletable": true,
    "editable": true
   },
   "source": [
    "### One-hot encode\n",
    "Just like the previous code cell, you'll be implementing a function for preprocessing.  This time, you'll implement the `one_hot_encode` function. The input, `x`, are a list of labels.  Implement the function to return the list of labels as One-Hot encoded Numpy array.  The possible values for labels are 0 to 9. The one-hot encoding function should return the same encoding for each value between each call to `one_hot_encode`.  Make sure to save the map of encodings outside the function.\n",
    "\n",
    "Hint: Don't reinvent the wheel."
   ]
  },
  {
   "cell_type": "code",
   "execution_count": 43,
   "metadata": {
    "collapsed": false,
    "deletable": true,
    "editable": true
   },
   "outputs": [
    {
     "name": "stdout",
     "output_type": "stream",
     "text": [
      "Tests Passed\n"
     ]
    }
   ],
   "source": [
    "lb = LabelBinarizer().fit(np.arange(10))\n",
    "def one_hot_encode(x):\n",
    "    \"\"\"\n",
    "    One hot encode a list of sample labels. Return a one-hot encoded vector for each label.\n",
    "    : x: List of sample Labels\n",
    "    : return: Numpy array of one-hot encoded labels\n",
    "    \"\"\"\n",
    "    return lb.transform(x)\n",
    "\n",
    "\n",
    "\"\"\"\n",
    "DON'T MODIFY ANYTHING IN THIS CELL THAT IS BELOW THIS LINE\n",
    "\"\"\"\n",
    "tests.test_one_hot_encode(one_hot_encode)"
   ]
  },
  {
   "cell_type": "markdown",
   "metadata": {
    "deletable": true,
    "editable": true
   },
   "source": [
    "### Randomize Data\n",
    "As you saw from exploring the data above, the order of the samples are randomized.  It doesn't hurt to randomize it again, but you don't need to for this dataset."
   ]
  },
  {
   "cell_type": "markdown",
   "metadata": {
    "deletable": true,
    "editable": true
   },
   "source": [
    "## Preprocess all the data and save it\n",
    "Running the code cell below will preprocess all the CIFAR-10 data and save it to file. The code below also uses 10% of the training data for validation."
   ]
  },
  {
   "cell_type": "code",
   "execution_count": 44,
   "metadata": {
    "collapsed": false,
    "deletable": true,
    "editable": true
   },
   "outputs": [],
   "source": [
    "\"\"\"\n",
    "DON'T MODIFY ANYTHING IN THIS CELL\n",
    "\"\"\"\n",
    "# Preprocess Training, Validation, and Testing Data\n",
    "helper.preprocess_and_save_data(cifar10_dataset_folder_path, normalize, one_hot_encode)"
   ]
  },
  {
   "cell_type": "markdown",
   "metadata": {
    "deletable": true,
    "editable": true
   },
   "source": [
    "# Check Point\n",
    "This is your first checkpoint.  If you ever decide to come back to this notebook or have to restart the notebook, you can start from here.  The preprocessed data has been saved to disk."
   ]
  },
  {
   "cell_type": "code",
   "execution_count": 2,
   "metadata": {
    "collapsed": true,
    "deletable": true,
    "editable": true
   },
   "outputs": [],
   "source": [
    "\"\"\"\n",
    "DON'T MODIFY ANYTHING IN THIS CELL\n",
    "\"\"\"\n",
    "import pickle\n",
    "import problem_unittests as tests\n",
    "import helper\n",
    "\n",
    "# Load the Preprocessed Validation data\n",
    "valid_features, valid_labels = pickle.load(open('preprocess_validation.p', mode='rb'))"
   ]
  },
  {
   "cell_type": "markdown",
   "metadata": {
    "deletable": true,
    "editable": true
   },
   "source": [
    "## Build the network\n",
    "For the neural network, you'll build each layer into a function.  Most of the code you've seen has been outside of functions. To test your code more thoroughly, we require that you put each layer in a function.  This allows us to give you better feedback and test for simple mistakes using our unittests before you submit your project.\n",
    "\n",
    ">**Note:** If you're finding it hard to dedicate enough time for this course each week, we've provided a small shortcut to this part of the project. In the next couple of problems, you'll have the option to use classes from the [TensorFlow Layers](https://www.tensorflow.org/api_docs/python/tf/layers) or [TensorFlow Layers (contrib)](https://www.tensorflow.org/api_guides/python/contrib.layers) packages to build each layer, except the layers you build in the \"Convolutional and Max Pooling Layer\" section.  TF Layers is similar to Keras's and TFLearn's abstraction to layers, so it's easy to pickup.\n",
    "\n",
    ">However, if you would like to get the most out of this course, try to solve all the problems _without_ using anything from the TF Layers packages. You **can** still use classes from other packages that happen to have the same name as ones you find in TF Layers! For example, instead of using the TF Layers version of the `conv2d` class, [tf.layers.conv2d](https://www.tensorflow.org/api_docs/python/tf/layers/conv2d), you would want to use the TF Neural Network version of `conv2d`, [tf.nn.conv2d](https://www.tensorflow.org/api_docs/python/tf/nn/conv2d). \n",
    "\n",
    "Let's begin!\n",
    "\n",
    "### Input\n",
    "The neural network needs to read the image data, one-hot encoded labels, and dropout keep probability. Implement the following functions\n",
    "* Implement `neural_net_image_input`\n",
    " * Return a [TF Placeholder](https://www.tensorflow.org/api_docs/python/tf/placeholder)\n",
    " * Set the shape using `image_shape` with batch size set to `None`.\n",
    " * Name the TensorFlow placeholder \"x\" using the TensorFlow `name` parameter in the [TF Placeholder](https://www.tensorflow.org/api_docs/python/tf/placeholder).\n",
    "* Implement `neural_net_label_input`\n",
    " * Return a [TF Placeholder](https://www.tensorflow.org/api_docs/python/tf/placeholder)\n",
    " * Set the shape using `n_classes` with batch size set to `None`.\n",
    " * Name the TensorFlow placeholder \"y\" using the TensorFlow `name` parameter in the [TF Placeholder](https://www.tensorflow.org/api_docs/python/tf/placeholder).\n",
    "* Implement `neural_net_keep_prob_input`\n",
    " * Return a [TF Placeholder](https://www.tensorflow.org/api_docs/python/tf/placeholder) for dropout keep probability.\n",
    " * Name the TensorFlow placeholder \"keep_prob\" using the TensorFlow `name` parameter in the [TF Placeholder](https://www.tensorflow.org/api_docs/python/tf/placeholder).\n",
    "\n",
    "These names will be used at the end of the project to load your saved model.\n",
    "\n",
    "Note: `None` for shapes in TensorFlow allow for a dynamic size."
   ]
  },
  {
   "cell_type": "code",
   "execution_count": 3,
   "metadata": {
    "collapsed": false,
    "deletable": true,
    "editable": true
   },
   "outputs": [
    {
     "name": "stdout",
     "output_type": "stream",
     "text": [
      "Image Input Tests Passed.\n",
      "Label Input Tests Passed.\n",
      "Keep Prob Tests Passed.\n"
     ]
    }
   ],
   "source": [
    "import tensorflow as tf\n",
    "\n",
    "def neural_net_image_input(image_shape):\n",
    "    \"\"\"\n",
    "    Return a Tensor for a batch of image input\n",
    "    : image_shape: Shape of the images\n",
    "    : return: Tensor for image input.\n",
    "    \"\"\"\n",
    "    return tf.placeholder(tf.float32, shape=[None, image_shape[0], image_shape[1], image_shape[2]], name=\"x\")\n",
    "\n",
    "\n",
    "def neural_net_label_input(n_classes):\n",
    "    \"\"\"\n",
    "    Return a Tensor for a batch of label input\n",
    "    : n_classes: Number of classes\n",
    "    : return: Tensor for label input.\n",
    "    \"\"\"\n",
    "    return tf.placeholder(tf.float32, shape=[None, n_classes], name=\"y\")\n",
    "\n",
    "\n",
    "def neural_net_keep_prob_input():\n",
    "    \"\"\"\n",
    "    Return a Tensor for keep probability\n",
    "    : return: Tensor for keep probability.\n",
    "    \"\"\"\n",
    "    return tf.placeholder(tf.float32, name=\"keep_prob\")\n",
    "\n",
    "\n",
    "\"\"\"\n",
    "DON'T MODIFY ANYTHING IN THIS CELL THAT IS BELOW THIS LINE\n",
    "\"\"\"\n",
    "tf.reset_default_graph()\n",
    "tests.test_nn_image_inputs(neural_net_image_input)\n",
    "tests.test_nn_label_inputs(neural_net_label_input)\n",
    "tests.test_nn_keep_prob_inputs(neural_net_keep_prob_input)"
   ]
  },
  {
   "cell_type": "markdown",
   "metadata": {
    "deletable": true,
    "editable": true
   },
   "source": [
    "### Convolution and Max Pooling Layer\n",
    "Convolution layers have a lot of success with images. For this code cell, you should implement the function `conv2d_maxpool` to apply convolution then max pooling:\n",
    "* Create the weight and bias using `conv_ksize`, `conv_num_outputs` and the shape of `x_tensor`.\n",
    "* Apply a convolution to `x_tensor` using weight and `conv_strides`.\n",
    " * We recommend you use same padding, but you're welcome to use any padding.\n",
    "* Add bias\n",
    "* Add a nonlinear activation to the convolution.\n",
    "* Apply Max Pooling using `pool_ksize` and `pool_strides`.\n",
    " * We recommend you use same padding, but you're welcome to use any padding.\n",
    "\n",
    "**Note:** You **can't** use [TensorFlow Layers](https://www.tensorflow.org/api_docs/python/tf/layers) or [TensorFlow Layers (contrib)](https://www.tensorflow.org/api_guides/python/contrib.layers) for **this** layer, but you can still use TensorFlow's [Neural Network](https://www.tensorflow.org/api_docs/python/tf/nn) package. You may still use the shortcut option for all the **other** layers."
   ]
  },
  {
   "cell_type": "code",
   "execution_count": 4,
   "metadata": {
    "collapsed": false,
    "deletable": true,
    "editable": true
   },
   "outputs": [
    {
     "name": "stdout",
     "output_type": "stream",
     "text": [
      "Tests Passed\n"
     ]
    }
   ],
   "source": [
    "def conv2d_maxpool(x_tensor, conv_num_outputs, conv_ksize, conv_strides, pool_ksize, pool_strides):\n",
    "    \"\"\"\n",
    "    Apply convolution then max pooling to x_tensor\n",
    "    :param x_tensor: TensorFlow Tensor\n",
    "    :param conv_num_outputs: Number of outputs for the convolutional layer\n",
    "    :param conv_ksize: kernal size 2-D Tuple for the convolutional layer\n",
    "    :param conv_strides: Stride 2-D Tuple for convolution\n",
    "    :param pool_ksize: kernal size 2-D Tuple for pool\n",
    "    :param pool_strides: Stride 2-D Tuple for pool\n",
    "    : return: A tensor that represents convolution and max pooling of x_tensor\n",
    "    \"\"\"\n",
    "    \n",
    "    W = tf.Variable(tf.truncated_normal(\n",
    "      [conv_ksize[0], conv_ksize[1], x_tensor.shape.as_list()[3], conv_num_outputs],\n",
    "      mean=0,\n",
    "      stddev=.01\n",
    "    ))\n",
    "    \n",
    "    b = tf.Variable(tf.zeros(conv_num_outputs, dtype=tf.float32))\n",
    "    \n",
    "    net = tf.nn.conv2d(\n",
    "      x_tensor, \n",
    "      W, \n",
    "      strides=[1, conv_strides[0], conv_strides[1], 1],\n",
    "      padding='SAME'\n",
    "    )\n",
    "    net = tf.nn.bias_add(net, b)\n",
    "    \n",
    "    net = tf.nn.relu(net)\n",
    "    \n",
    "    return tf.nn.max_pool(\n",
    "      net,\n",
    "      ksize=[1, pool_ksize[0], pool_ksize[1], 1],\n",
    "      strides=[1, pool_strides[0], pool_strides[1], 1],\n",
    "      padding='SAME'\n",
    "    )\n",
    "\n",
    "\n",
    "\"\"\"\n",
    "DON'T MODIFY ANYTHING IN THIS CELL THAT IS BELOW THIS LINE\n",
    "\"\"\"\n",
    "tests.test_con_pool(conv2d_maxpool)"
   ]
  },
  {
   "cell_type": "markdown",
   "metadata": {
    "deletable": true,
    "editable": true
   },
   "source": [
    "### Flatten Layer\n",
    "Implement the `flatten` function to change the dimension of `x_tensor` from a 4-D tensor to a 2-D tensor.  The output should be the shape (*Batch Size*, *Flattened Image Size*). Shortcut option: you can use classes from the [TensorFlow Layers](https://www.tensorflow.org/api_docs/python/tf/layers) or [TensorFlow Layers (contrib)](https://www.tensorflow.org/api_guides/python/contrib.layers) packages for this layer. For more of a challenge, only use other TensorFlow packages."
   ]
  },
  {
   "cell_type": "code",
   "execution_count": 5,
   "metadata": {
    "collapsed": false,
    "deletable": true,
    "editable": true
   },
   "outputs": [
    {
     "name": "stdout",
     "output_type": "stream",
     "text": [
      "Tests Passed\n"
     ]
    }
   ],
   "source": [
    "def flatten(x_tensor):\n",
    "    \"\"\"\n",
    "    Flatten x_tensor to (Batch Size, Flattened Image Size)\n",
    "    : x_tensor: A tensor of size (Batch Size, ...), where ... are the image dimensions.\n",
    "    : return: A tensor of size (Batch Size, Flattened Image Size).\n",
    "    \"\"\"\n",
    "    size = x_tensor.shape.as_list()[1] * x_tensor.shape.as_list()[2] * x_tensor.shape.as_list()[3]\n",
    "    return tf.reshape(x_tensor, [-1, size])\n",
    "\n",
    "\n",
    "\"\"\"\n",
    "DON'T MODIFY ANYTHING IN THIS CELL THAT IS BELOW THIS LINE\n",
    "\"\"\"\n",
    "tests.test_flatten(flatten)"
   ]
  },
  {
   "cell_type": "markdown",
   "metadata": {
    "deletable": true,
    "editable": true
   },
   "source": [
    "### Fully-Connected Layer\n",
    "Implement the `fully_conn` function to apply a fully connected layer to `x_tensor` with the shape (*Batch Size*, *num_outputs*). Shortcut option: you can use classes from the [TensorFlow Layers](https://www.tensorflow.org/api_docs/python/tf/layers) or [TensorFlow Layers (contrib)](https://www.tensorflow.org/api_guides/python/contrib.layers) packages for this layer. For more of a challenge, only use other TensorFlow packages."
   ]
  },
  {
   "cell_type": "code",
   "execution_count": 6,
   "metadata": {
    "collapsed": false,
    "deletable": true,
    "editable": true
   },
   "outputs": [
    {
     "name": "stdout",
     "output_type": "stream",
     "text": [
      "Tests Passed\n"
     ]
    }
   ],
   "source": [
    "def fully_conn(x_tensor, num_outputs):\n",
    "    \"\"\"\n",
    "    Apply a fully connected layer to x_tensor using weight and bias\n",
    "    : x_tensor: A 2-D tensor where the first dimension is batch size.\n",
    "    : num_outputs: The number of output that the new tensor should be.\n",
    "    : return: A 2-D tensor where the second dimension is num_outputs.\n",
    "    \"\"\"\n",
    "    W = tf.Variable(tf.truncated_normal(\n",
    "      [x_tensor.shape.as_list()[1], num_outputs],\n",
    "      mean=0,\n",
    "      stddev=.01\n",
    "    ))\n",
    "    b = tf.Variable(tf.zeros(num_outputs))\n",
    "    return tf.nn.relu(tf.add(tf.matmul(x_tensor, W), b))\n",
    "\n",
    "\n",
    "\"\"\"\n",
    "DON'T MODIFY ANYTHING IN THIS CELL THAT IS BELOW THIS LINE\n",
    "\"\"\"\n",
    "tests.test_fully_conn(fully_conn)"
   ]
  },
  {
   "cell_type": "markdown",
   "metadata": {
    "deletable": true,
    "editable": true
   },
   "source": [
    "### Output Layer\n",
    "Implement the `output` function to apply a fully connected layer to `x_tensor` with the shape (*Batch Size*, *num_outputs*). Shortcut option: you can use classes from the [TensorFlow Layers](https://www.tensorflow.org/api_docs/python/tf/layers) or [TensorFlow Layers (contrib)](https://www.tensorflow.org/api_guides/python/contrib.layers) packages for this layer. For more of a challenge, only use other TensorFlow packages.\n",
    "\n",
    "**Note:** Activation, softmax, or cross entropy should **not** be applied to this."
   ]
  },
  {
   "cell_type": "code",
   "execution_count": 7,
   "metadata": {
    "collapsed": false,
    "deletable": true,
    "editable": true
   },
   "outputs": [
    {
     "name": "stdout",
     "output_type": "stream",
     "text": [
      "Tests Passed\n"
     ]
    }
   ],
   "source": [
    "def output(x_tensor, num_outputs):\n",
    "    \"\"\"\n",
    "    Apply a output layer to x_tensor using weight and bias\n",
    "    : x_tensor: A 2-D tensor where the first dimension is batch size.\n",
    "    : num_outputs: The number of output that the new tensor should be.\n",
    "    : return: A 2-D tensor where the second dimension is num_outputs.\n",
    "    \"\"\"\n",
    "    W = tf.Variable(tf.truncated_normal(\n",
    "      [x_tensor.shape.as_list()[1], num_outputs],\n",
    "      mean=0,\n",
    "      stddev=.01\n",
    "    ), name=\"output_w\")\n",
    "    b = tf.Variable(tf.zeros(num_outputs), name=\"output_b\")\n",
    "    return tf.add(tf.matmul(x_tensor, W), b)\n",
    "\n",
    "\n",
    "\"\"\"\n",
    "DON'T MODIFY ANYTHING IN THIS CELL THAT IS BELOW THIS LINE\n",
    "\"\"\"\n",
    "tests.test_output(output)"
   ]
  },
  {
   "cell_type": "markdown",
   "metadata": {
    "deletable": true,
    "editable": true
   },
   "source": [
    "### Create Convolutional Model\n",
    "Implement the function `conv_net` to create a convolutional neural network model. The function takes in a batch of images, `x`, and outputs logits.  Use the layers you created above to create this model:\n",
    "\n",
    "* Apply 1, 2, or 3 Convolution and Max Pool layers\n",
    "* Apply a Flatten Layer\n",
    "* Apply 1, 2, or 3 Fully Connected Layers\n",
    "* Apply an Output Layer\n",
    "* Return the output\n",
    "* Apply [TensorFlow's Dropout](https://www.tensorflow.org/api_docs/python/tf/nn/dropout) to one or more layers in the model using `keep_prob`. "
   ]
  },
  {
   "cell_type": "code",
   "execution_count": 8,
   "metadata": {
    "collapsed": false,
    "deletable": true,
    "editable": true
   },
   "outputs": [
    {
     "name": "stdout",
     "output_type": "stream",
     "text": [
      "Neural Network Built!\n"
     ]
    }
   ],
   "source": [
    "def conv_net(x, keep_prob):\n",
    "    \"\"\"\n",
    "    Create a convolutional neural network model\n",
    "    : x: Placeholder tensor that holds image data.\n",
    "    : keep_prob: Placeholder tensor that hold dropout keep probability.\n",
    "    : return: Tensor that represents logits\n",
    "    \"\"\"\n",
    "    net = conv2d_maxpool(\n",
    "      x,\n",
    "      32,\n",
    "      (3, 3),\n",
    "      (1, 1),\n",
    "      (2, 2),\n",
    "      (2, 2)\n",
    "    )\n",
    "    \n",
    "    net = tf.nn.dropout(net, keep_prob=keep_prob)\n",
    "    \n",
    "    net = conv2d_maxpool(\n",
    "      net,\n",
    "      64,\n",
    "      (3, 3),\n",
    "      (1, 1),\n",
    "      (2, 2),\n",
    "      (2, 2)\n",
    "    )\n",
    "    \n",
    "    net = tf.nn.dropout(net, keep_prob=keep_prob)\n",
    "    \n",
    "    net = conv2d_maxpool(\n",
    "      x,\n",
    "      128,\n",
    "      (3, 3),\n",
    "      (1, 1),\n",
    "      (2, 2),\n",
    "      (2, 2)\n",
    "    )\n",
    "    \n",
    "    net = tf.nn.dropout(net, keep_prob=keep_prob)\n",
    "    \n",
    "    net = flatten(net)\n",
    "    \n",
    "    net = fully_conn(net, 512)\n",
    "\n",
    "    net = tf.nn.dropout(net, keep_prob=keep_prob)\n",
    "    \n",
    "    net = fully_conn(net, 1024)\n",
    "    \n",
    "    net = tf.nn.dropout(net, keep_prob=keep_prob)\n",
    "    \n",
    "    return output(net, 10)\n",
    "\n",
    "\n",
    "\"\"\"\n",
    "DON'T MODIFY ANYTHING IN THIS CELL THAT IS BELOW THIS LINE\n",
    "\"\"\"\n",
    "\n",
    "##############################\n",
    "## Build the Neural Network ##\n",
    "##############################\n",
    "\n",
    "# Remove previous weights, bias, inputs, etc..\n",
    "tf.reset_default_graph()\n",
    "\n",
    "# Inputs\n",
    "x = neural_net_image_input((32, 32, 3))\n",
    "y = neural_net_label_input(10)\n",
    "keep_prob = neural_net_keep_prob_input()\n",
    "\n",
    "# Model\n",
    "logits = conv_net(x, keep_prob)\n",
    "\n",
    "# Name logits Tensor, so that is can be loaded from disk after training\n",
    "logits = tf.identity(logits, name='logits')\n",
    "\n",
    "# Loss and Optimizer\n",
    "cost = tf.reduce_mean(tf.nn.softmax_cross_entropy_with_logits(logits=logits, labels=y))\n",
    "optimizer = tf.train.AdamOptimizer().minimize(cost)\n",
    "\n",
    "# Accuracy\n",
    "correct_pred = tf.equal(tf.argmax(logits, 1), tf.argmax(y, 1))\n",
    "accuracy = tf.reduce_mean(tf.cast(correct_pred, tf.float32), name='accuracy')\n",
    "\n",
    "tests.test_conv_net(conv_net)"
   ]
  },
  {
   "cell_type": "markdown",
   "metadata": {
    "deletable": true,
    "editable": true
   },
   "source": [
    "## Train the Neural Network\n",
    "### Single Optimization\n",
    "Implement the function `train_neural_network` to do a single optimization.  The optimization should use `optimizer` to optimize in `session` with a `feed_dict` of the following:\n",
    "* `x` for image input\n",
    "* `y` for labels\n",
    "* `keep_prob` for keep probability for dropout\n",
    "\n",
    "This function will be called for each batch, so `tf.global_variables_initializer()` has already been called.\n",
    "\n",
    "Note: Nothing needs to be returned. This function is only optimizing the neural network."
   ]
  },
  {
   "cell_type": "code",
   "execution_count": 9,
   "metadata": {
    "collapsed": false,
    "deletable": true,
    "editable": true
   },
   "outputs": [
    {
     "name": "stdout",
     "output_type": "stream",
     "text": [
      "Tests Passed\n"
     ]
    }
   ],
   "source": [
    "def train_neural_network(session, optimizer, keep_probability, feature_batch, label_batch):\n",
    "    \"\"\"\n",
    "    Optimize the session on a batch of images and labels\n",
    "    : session: Current TensorFlow session\n",
    "    : optimizer: TensorFlow optimizer function\n",
    "    : keep_probability: keep probability\n",
    "    : feature_batch: Batch of Numpy image data\n",
    "    : label_batch: Batch of Numpy label data\n",
    "    \"\"\"\n",
    "    session.run(optimizer, feed_dict={\n",
    "        x: feature_batch,\n",
    "        y: label_batch,\n",
    "        keep_prob: keep_probability\n",
    "      })\n",
    "\n",
    "\n",
    "\"\"\"\n",
    "DON'T MODIFY ANYTHING IN THIS CELL THAT IS BELOW THIS LINE\n",
    "\"\"\"\n",
    "tests.test_train_nn(train_neural_network)"
   ]
  },
  {
   "cell_type": "markdown",
   "metadata": {
    "deletable": true,
    "editable": true
   },
   "source": [
    "### Show Stats\n",
    "Implement the function `print_stats` to print loss and validation accuracy.  Use the global variables `valid_features` and `valid_labels` to calculate validation accuracy.  Use a keep probability of `1.0` to calculate the loss and validation accuracy."
   ]
  },
  {
   "cell_type": "code",
   "execution_count": 28,
   "metadata": {
    "collapsed": false,
    "deletable": true,
    "editable": true
   },
   "outputs": [],
   "source": [
    "import numpy as np\n",
    "\n",
    "def print_stats(session, feature_batch, label_batch, cost, accuracy):\n",
    "    \"\"\"\n",
    "    Print information about loss and validation accuracy\n",
    "    : session: Current TensorFlow session\n",
    "    : feature_batch: Batch of Numpy image data\n",
    "    : label_batch: Batch of Numpy label data\n",
    "    : cost: TensorFlow cost function\n",
    "    : accuracy: TensorFlow accuracy function\n",
    "    \"\"\"\n",
    "    cost_out = session.run(cost, feed_dict={\n",
    "        x: feature_batch,\n",
    "        y: label_batch,\n",
    "        keep_prob: 1.0\n",
    "      })\n",
    "\n",
    "    accuracy_out = session.run(accuracy, feed_dict={\n",
    "        x: feature_batch,\n",
    "        y: label_batch,\n",
    "        keep_prob: 1.0\n",
    "      })\n",
    "    \n",
    "    valid_feature_bins = np.split(valid_features, 10)\n",
    "    valid_label_bins = np.split(valid_labels, 10)\n",
    "    valid_accuracy_bins = np.zeros(10)\n",
    "    i = 0\n",
    "    \n",
    "    for valid_feature_bin, valid_label_bin in zip(valid_feature_bins, valid_label_bins):\n",
    "        valid_accuracy_bins[i] = session.run(accuracy, feed_dict={\n",
    "            x: valid_feature_bin,\n",
    "            y: valid_label_bin,\n",
    "            keep_prob: 1.0\n",
    "        })\n",
    "        \n",
    "        i += 1\n",
    "    \n",
    "    valid_accuracy = valid_accuracy_bins.mean()\n",
    "\n",
    "    print('Cost: {:>10.4f} Accuracy: {:>.6f}, Valid Accuracy: {:>.6f}'.format(cost_out, accuracy_out, valid_accuracy))"
   ]
  },
  {
   "cell_type": "markdown",
   "metadata": {
    "deletable": true,
    "editable": true
   },
   "source": [
    "### Hyperparameters\n",
    "Tune the following parameters:\n",
    "* Set `epochs` to the number of iterations until the network stops learning or start overfitting\n",
    "* Set `batch_size` to the highest number that your machine has memory for.  Most people set them to common sizes of memory:\n",
    " * 64\n",
    " * 128\n",
    " * 256\n",
    " * ...\n",
    "* Set `keep_probability` to the probability of keeping a node using dropout"
   ]
  },
  {
   "cell_type": "code",
   "execution_count": 17,
   "metadata": {
    "collapsed": true,
    "deletable": true,
    "editable": true
   },
   "outputs": [],
   "source": [
    "# TODO: Tune Parameters\n",
    "epochs = 50\n",
    "batch_size = 512\n",
    "keep_probability = .5"
   ]
  },
  {
   "cell_type": "markdown",
   "metadata": {
    "deletable": true,
    "editable": true
   },
   "source": [
    "### Train on a Single CIFAR-10 Batch\n",
    "Instead of training the neural network on all the CIFAR-10 batches of data, let's use a single batch. This should save time while you iterate on the model to get a better accuracy.  Once the final validation accuracy is 50% or greater, run the model on all the data in the next section."
   ]
  },
  {
   "cell_type": "code",
   "execution_count": 31,
   "metadata": {
    "collapsed": false,
    "deletable": true,
    "editable": true
   },
   "outputs": [
    {
     "name": "stdout",
     "output_type": "stream",
     "text": [
      "Checking the Training on a Single Batch...\n",
      "Epoch  1, CIFAR-10 Batch 1:  Cost:     2.1369 Accuracy: 0.226351, Valid Accuracy: 0.253000\n",
      "Epoch  2, CIFAR-10 Batch 1:  Cost:     2.0290 Accuracy: 0.270270, Valid Accuracy: 0.275000\n",
      "Epoch  3, CIFAR-10 Batch 1:  Cost:     1.8995 Accuracy: 0.334459, Valid Accuracy: 0.327200\n",
      "Epoch  4, CIFAR-10 Batch 1:  Cost:     1.8031 Accuracy: 0.351351, Valid Accuracy: 0.370600\n",
      "Epoch  5, CIFAR-10 Batch 1:  Cost:     1.7157 Accuracy: 0.388514, Valid Accuracy: 0.382200\n",
      "Epoch  6, CIFAR-10 Batch 1:  Cost:     1.6115 Accuracy: 0.439189, Valid Accuracy: 0.405200\n",
      "Epoch  7, CIFAR-10 Batch 1:  Cost:     1.5250 Accuracy: 0.472973, Valid Accuracy: 0.430600\n",
      "Epoch  8, CIFAR-10 Batch 1:  Cost:     1.3793 Accuracy: 0.503378, Valid Accuracy: 0.463800\n",
      "Epoch  9, CIFAR-10 Batch 1:  Cost:     1.2860 Accuracy: 0.543919, Valid Accuracy: 0.476800\n",
      "Epoch 10, CIFAR-10 Batch 1:  Cost:     1.2085 Accuracy: 0.564189, Valid Accuracy: 0.491000\n",
      "Epoch 11, CIFAR-10 Batch 1:  Cost:     1.1486 Accuracy: 0.604730, Valid Accuracy: 0.493000\n",
      "Epoch 12, CIFAR-10 Batch 1:  Cost:     1.0565 Accuracy: 0.635135, Valid Accuracy: 0.518400\n",
      "Epoch 13, CIFAR-10 Batch 1:  Cost:     1.0273 Accuracy: 0.652027, Valid Accuracy: 0.513800\n",
      "Epoch 14, CIFAR-10 Batch 1:  Cost:     1.0039 Accuracy: 0.658784, Valid Accuracy: 0.514200\n",
      "Epoch 15, CIFAR-10 Batch 1:  Cost:     0.9374 Accuracy: 0.682432, Valid Accuracy: 0.524400\n",
      "Epoch 16, CIFAR-10 Batch 1:  Cost:     0.8852 Accuracy: 0.712838, Valid Accuracy: 0.526000\n",
      "Epoch 17, CIFAR-10 Batch 1:  Cost:     0.8202 Accuracy: 0.709459, Valid Accuracy: 0.533400\n",
      "Epoch 18, CIFAR-10 Batch 1:  Cost:     0.7442 Accuracy: 0.756757, Valid Accuracy: 0.543200\n",
      "Epoch 19, CIFAR-10 Batch 1:  Cost:     0.6960 Accuracy: 0.760135, Valid Accuracy: 0.551400\n",
      "Epoch 20, CIFAR-10 Batch 1:  Cost:     0.6421 Accuracy: 0.790541, Valid Accuracy: 0.544800\n",
      "Epoch 21, CIFAR-10 Batch 1:  Cost:     0.5621 Accuracy: 0.831081, Valid Accuracy: 0.554800\n",
      "Epoch 22, CIFAR-10 Batch 1:  Cost:     0.5440 Accuracy: 0.844595, Valid Accuracy: 0.553600\n",
      "Epoch 23, CIFAR-10 Batch 1:  Cost:     0.5089 Accuracy: 0.837838, Valid Accuracy: 0.546600\n",
      "Epoch 24, CIFAR-10 Batch 1:  Cost:     0.4462 Accuracy: 0.878378, Valid Accuracy: 0.558200\n",
      "Epoch 25, CIFAR-10 Batch 1:  Cost:     0.4058 Accuracy: 0.895270, Valid Accuracy: 0.555400\n",
      "Epoch 26, CIFAR-10 Batch 1:  Cost:     0.3811 Accuracy: 0.908784, Valid Accuracy: 0.549400\n",
      "Epoch 27, CIFAR-10 Batch 1:  Cost:     0.3559 Accuracy: 0.922297, Valid Accuracy: 0.553600\n",
      "Epoch 28, CIFAR-10 Batch 1:  Cost:     0.3017 Accuracy: 0.939189, Valid Accuracy: 0.572200\n",
      "Epoch 29, CIFAR-10 Batch 1:  Cost:     0.2598 Accuracy: 0.935811, Valid Accuracy: 0.565800\n",
      "Epoch 30, CIFAR-10 Batch 1:  Cost:     0.2461 Accuracy: 0.942568, Valid Accuracy: 0.565200\n",
      "Epoch 31, CIFAR-10 Batch 1:  Cost:     0.2501 Accuracy: 0.935811, Valid Accuracy: 0.554200\n",
      "Epoch 32, CIFAR-10 Batch 1:  Cost:     0.2709 Accuracy: 0.925676, Valid Accuracy: 0.535400\n",
      "Epoch 33, CIFAR-10 Batch 1:  Cost:     0.2024 Accuracy: 0.959459, Valid Accuracy: 0.560200\n",
      "Epoch 34, CIFAR-10 Batch 1:  Cost:     0.1730 Accuracy: 0.969595, Valid Accuracy: 0.563200\n",
      "Epoch 35, CIFAR-10 Batch 1:  Cost:     0.1471 Accuracy: 0.959459, Valid Accuracy: 0.568600\n",
      "Epoch 36, CIFAR-10 Batch 1:  Cost:     0.1419 Accuracy: 0.976351, Valid Accuracy: 0.570800\n",
      "Epoch 37, CIFAR-10 Batch 1:  Cost:     0.1309 Accuracy: 0.976351, Valid Accuracy: 0.561600\n",
      "Epoch 38, CIFAR-10 Batch 1:  Cost:     0.1237 Accuracy: 0.979730, Valid Accuracy: 0.557200\n",
      "Epoch 39, CIFAR-10 Batch 1:  Cost:     0.0969 Accuracy: 0.986487, Valid Accuracy: 0.569800\n",
      "Epoch 40, CIFAR-10 Batch 1:  Cost:     0.1271 Accuracy: 0.972973, Valid Accuracy: 0.559600\n",
      "Epoch 41, CIFAR-10 Batch 1:  Cost:     0.0870 Accuracy: 0.986487, Valid Accuracy: 0.573400\n",
      "Epoch 42, CIFAR-10 Batch 1:  Cost:     0.0802 Accuracy: 0.976351, Valid Accuracy: 0.567200\n",
      "Epoch 43, CIFAR-10 Batch 1:  Cost:     0.0733 Accuracy: 0.989865, Valid Accuracy: 0.572000\n",
      "Epoch 44, CIFAR-10 Batch 1:  Cost:     0.0612 Accuracy: 0.989865, Valid Accuracy: 0.577400\n",
      "Epoch 45, CIFAR-10 Batch 1:  Cost:     0.0516 Accuracy: 0.996622, Valid Accuracy: 0.571600\n",
      "Epoch 46, CIFAR-10 Batch 1:  Cost:     0.0561 Accuracy: 0.996622, Valid Accuracy: 0.566800\n",
      "Epoch 47, CIFAR-10 Batch 1:  Cost:     0.0629 Accuracy: 0.989865, Valid Accuracy: 0.566000\n",
      "Epoch 48, CIFAR-10 Batch 1:  Cost:     0.0571 Accuracy: 0.996622, Valid Accuracy: 0.571200\n",
      "Epoch 49, CIFAR-10 Batch 1:  Cost:     0.0541 Accuracy: 1.000000, Valid Accuracy: 0.561000\n",
      "Epoch 50, CIFAR-10 Batch 1:  Cost:     0.0566 Accuracy: 1.000000, Valid Accuracy: 0.559800\n"
     ]
    }
   ],
   "source": [
    "\"\"\"\n",
    "DON'T MODIFY ANYTHING IN THIS CELL\n",
    "\"\"\"\n",
    "print('Checking the Training on a Single Batch...')\n",
    "with tf.Session() as sess:\n",
    "    # Initializing the variables\n",
    "    sess.run(tf.global_variables_initializer())\n",
    "    \n",
    "    # Training cycle\n",
    "    for epoch in range(epochs):\n",
    "        batch_i = 1\n",
    "        for batch_features, batch_labels in helper.load_preprocess_training_batch(batch_i, batch_size):\n",
    "            train_neural_network(sess, optimizer, keep_probability, batch_features, batch_labels)\n",
    "        print('Epoch {:>2}, CIFAR-10 Batch {}:  '.format(epoch + 1, batch_i), end='')\n",
    "        print_stats(sess, batch_features, batch_labels, cost, accuracy)"
   ]
  },
  {
   "cell_type": "markdown",
   "metadata": {
    "deletable": true,
    "editable": true
   },
   "source": [
    "### Fully Train the Model\n",
    "Now that you got a good accuracy with a single CIFAR-10 batch, try it with all five batches."
   ]
  },
  {
   "cell_type": "code",
   "execution_count": 29,
   "metadata": {
    "collapsed": false,
    "deletable": true,
    "editable": true
   },
   "outputs": [
    {
     "name": "stdout",
     "output_type": "stream",
     "text": [
      "Training...\n",
      "Epoch  1, CIFAR-10 Batch 1:  Cost:     2.1235 Accuracy: 0.212838, Valid Accuracy: 0.228200\n",
      "Epoch  1, CIFAR-10 Batch 2:  Cost:     1.9380 Accuracy: 0.263514, Valid Accuracy: 0.275200\n",
      "Epoch  1, CIFAR-10 Batch 3:  Cost:     1.7447 Accuracy: 0.395270, Valid Accuracy: 0.325200\n",
      "Epoch  1, CIFAR-10 Batch 4:  Cost:     1.6430 Accuracy: 0.415541, Valid Accuracy: 0.381000\n",
      "Epoch  1, CIFAR-10 Batch 5:  Cost:     1.6617 Accuracy: 0.429054, Valid Accuracy: 0.401400\n",
      "Epoch  2, CIFAR-10 Batch 1:  Cost:     1.6899 Accuracy: 0.429054, Valid Accuracy: 0.416600\n",
      "Epoch  2, CIFAR-10 Batch 2:  Cost:     1.4773 Accuracy: 0.452703, Valid Accuracy: 0.445000\n",
      "Epoch  2, CIFAR-10 Batch 3:  Cost:     1.2922 Accuracy: 0.540541, Valid Accuracy: 0.460600\n",
      "Epoch  2, CIFAR-10 Batch 4:  Cost:     1.2919 Accuracy: 0.520270, Valid Accuracy: 0.483000\n",
      "Epoch  2, CIFAR-10 Batch 5:  Cost:     1.3467 Accuracy: 0.523649, Valid Accuracy: 0.489400\n",
      "Epoch  3, CIFAR-10 Batch 1:  Cost:     1.4063 Accuracy: 0.510135, Valid Accuracy: 0.506800\n",
      "Epoch  3, CIFAR-10 Batch 2:  Cost:     1.2455 Accuracy: 0.567568, Valid Accuracy: 0.511200\n",
      "Epoch  3, CIFAR-10 Batch 3:  Cost:     1.1672 Accuracy: 0.594595, Valid Accuracy: 0.513400\n",
      "Epoch  3, CIFAR-10 Batch 4:  Cost:     1.1381 Accuracy: 0.591216, Valid Accuracy: 0.537400\n",
      "Epoch  3, CIFAR-10 Batch 5:  Cost:     1.2169 Accuracy: 0.594595, Valid Accuracy: 0.536600\n",
      "Epoch  4, CIFAR-10 Batch 1:  Cost:     1.2898 Accuracy: 0.567568, Valid Accuracy: 0.550600\n",
      "Epoch  4, CIFAR-10 Batch 2:  Cost:     1.1123 Accuracy: 0.591216, Valid Accuracy: 0.558200\n",
      "Epoch  4, CIFAR-10 Batch 3:  Cost:     1.0374 Accuracy: 0.645270, Valid Accuracy: 0.554200\n",
      "Epoch  4, CIFAR-10 Batch 4:  Cost:     1.0254 Accuracy: 0.641892, Valid Accuracy: 0.559400\n",
      "Epoch  4, CIFAR-10 Batch 5:  Cost:     1.0917 Accuracy: 0.621622, Valid Accuracy: 0.558200\n",
      "Epoch  5, CIFAR-10 Batch 1:  Cost:     1.1833 Accuracy: 0.611487, Valid Accuracy: 0.568800\n",
      "Epoch  5, CIFAR-10 Batch 2:  Cost:     0.9999 Accuracy: 0.662162, Valid Accuracy: 0.582200\n",
      "Epoch  5, CIFAR-10 Batch 3:  Cost:     0.9594 Accuracy: 0.665541, Valid Accuracy: 0.575600\n",
      "Epoch  5, CIFAR-10 Batch 4:  Cost:     0.9296 Accuracy: 0.679054, Valid Accuracy: 0.587600\n",
      "Epoch  5, CIFAR-10 Batch 5:  Cost:     0.9988 Accuracy: 0.658784, Valid Accuracy: 0.580200\n",
      "Epoch  6, CIFAR-10 Batch 1:  Cost:     1.0911 Accuracy: 0.621622, Valid Accuracy: 0.585600\n",
      "Epoch  6, CIFAR-10 Batch 2:  Cost:     0.9631 Accuracy: 0.668919, Valid Accuracy: 0.596600\n",
      "Epoch  6, CIFAR-10 Batch 3:  Cost:     0.8779 Accuracy: 0.699324, Valid Accuracy: 0.593800\n",
      "Epoch  6, CIFAR-10 Batch 4:  Cost:     0.8516 Accuracy: 0.702703, Valid Accuracy: 0.606000\n",
      "Epoch  6, CIFAR-10 Batch 5:  Cost:     0.8774 Accuracy: 0.709459, Valid Accuracy: 0.602400\n",
      "Epoch  7, CIFAR-10 Batch 1:  Cost:     0.9717 Accuracy: 0.658784, Valid Accuracy: 0.606200\n",
      "Epoch  7, CIFAR-10 Batch 2:  Cost:     0.8973 Accuracy: 0.722973, Valid Accuracy: 0.604400\n",
      "Epoch  7, CIFAR-10 Batch 3:  Cost:     0.7959 Accuracy: 0.722973, Valid Accuracy: 0.616000\n",
      "Epoch  7, CIFAR-10 Batch 4:  Cost:     0.8193 Accuracy: 0.699324, Valid Accuracy: 0.611600\n",
      "Epoch  7, CIFAR-10 Batch 5:  Cost:     0.8072 Accuracy: 0.726351, Valid Accuracy: 0.621400\n",
      "Epoch  8, CIFAR-10 Batch 1:  Cost:     0.9403 Accuracy: 0.672297, Valid Accuracy: 0.614600\n",
      "Epoch  8, CIFAR-10 Batch 2:  Cost:     0.8981 Accuracy: 0.726351, Valid Accuracy: 0.606200\n",
      "Epoch  8, CIFAR-10 Batch 3:  Cost:     0.7431 Accuracy: 0.766892, Valid Accuracy: 0.621000\n",
      "Epoch  8, CIFAR-10 Batch 4:  Cost:     0.7675 Accuracy: 0.743243, Valid Accuracy: 0.619600\n",
      "Epoch  8, CIFAR-10 Batch 5:  Cost:     0.7461 Accuracy: 0.756757, Valid Accuracy: 0.618400\n",
      "Epoch  9, CIFAR-10 Batch 1:  Cost:     0.8543 Accuracy: 0.706081, Valid Accuracy: 0.619000\n",
      "Epoch  9, CIFAR-10 Batch 2:  Cost:     0.8031 Accuracy: 0.753378, Valid Accuracy: 0.616600\n",
      "Epoch  9, CIFAR-10 Batch 3:  Cost:     0.6958 Accuracy: 0.780405, Valid Accuracy: 0.625000\n",
      "Epoch  9, CIFAR-10 Batch 4:  Cost:     0.7209 Accuracy: 0.746622, Valid Accuracy: 0.631800\n",
      "Epoch  9, CIFAR-10 Batch 5:  Cost:     0.6914 Accuracy: 0.780405, Valid Accuracy: 0.631400\n",
      "Epoch 10, CIFAR-10 Batch 1:  Cost:     0.7809 Accuracy: 0.750000, Valid Accuracy: 0.626000\n",
      "Epoch 10, CIFAR-10 Batch 2:  Cost:     0.7671 Accuracy: 0.770270, Valid Accuracy: 0.625200\n",
      "Epoch 10, CIFAR-10 Batch 3:  Cost:     0.6757 Accuracy: 0.790541, Valid Accuracy: 0.621600\n",
      "Epoch 10, CIFAR-10 Batch 4:  Cost:     0.6435 Accuracy: 0.790541, Valid Accuracy: 0.639000\n",
      "Epoch 10, CIFAR-10 Batch 5:  Cost:     0.6481 Accuracy: 0.777027, Valid Accuracy: 0.629600\n",
      "Epoch 11, CIFAR-10 Batch 1:  Cost:     0.7426 Accuracy: 0.763514, Valid Accuracy: 0.641800\n",
      "Epoch 11, CIFAR-10 Batch 2:  Cost:     0.7132 Accuracy: 0.787162, Valid Accuracy: 0.638600\n",
      "Epoch 11, CIFAR-10 Batch 3:  Cost:     0.6114 Accuracy: 0.807432, Valid Accuracy: 0.630000\n",
      "Epoch 11, CIFAR-10 Batch 4:  Cost:     0.6016 Accuracy: 0.804054, Valid Accuracy: 0.645400\n",
      "Epoch 11, CIFAR-10 Batch 5:  Cost:     0.5853 Accuracy: 0.807432, Valid Accuracy: 0.640200\n",
      "Epoch 12, CIFAR-10 Batch 1:  Cost:     0.6836 Accuracy: 0.797297, Valid Accuracy: 0.642400\n",
      "Epoch 12, CIFAR-10 Batch 2:  Cost:     0.6490 Accuracy: 0.777027, Valid Accuracy: 0.635800\n",
      "Epoch 12, CIFAR-10 Batch 3:  Cost:     0.5527 Accuracy: 0.847973, Valid Accuracy: 0.648800\n",
      "Epoch 12, CIFAR-10 Batch 4:  Cost:     0.5603 Accuracy: 0.807432, Valid Accuracy: 0.653800\n",
      "Epoch 12, CIFAR-10 Batch 5:  Cost:     0.5317 Accuracy: 0.827703, Valid Accuracy: 0.643600\n",
      "Epoch 13, CIFAR-10 Batch 1:  Cost:     0.6522 Accuracy: 0.773649, Valid Accuracy: 0.641800\n",
      "Epoch 13, CIFAR-10 Batch 2:  Cost:     0.6137 Accuracy: 0.814189, Valid Accuracy: 0.634400\n",
      "Epoch 13, CIFAR-10 Batch 3:  Cost:     0.5009 Accuracy: 0.844595, Valid Accuracy: 0.653000\n",
      "Epoch 13, CIFAR-10 Batch 4:  Cost:     0.5044 Accuracy: 0.837838, Valid Accuracy: 0.650400\n",
      "Epoch 13, CIFAR-10 Batch 5:  Cost:     0.5348 Accuracy: 0.827703, Valid Accuracy: 0.645600\n",
      "Epoch 14, CIFAR-10 Batch 1:  Cost:     0.5913 Accuracy: 0.817568, Valid Accuracy: 0.646600\n",
      "Epoch 14, CIFAR-10 Batch 2:  Cost:     0.5688 Accuracy: 0.837838, Valid Accuracy: 0.637600\n",
      "Epoch 14, CIFAR-10 Batch 3:  Cost:     0.4759 Accuracy: 0.861487, Valid Accuracy: 0.656600\n",
      "Epoch 14, CIFAR-10 Batch 4:  Cost:     0.4903 Accuracy: 0.841216, Valid Accuracy: 0.655800\n",
      "Epoch 14, CIFAR-10 Batch 5:  Cost:     0.4867 Accuracy: 0.858108, Valid Accuracy: 0.653200\n",
      "Epoch 15, CIFAR-10 Batch 1:  Cost:     0.5469 Accuracy: 0.814189, Valid Accuracy: 0.654000\n",
      "Epoch 15, CIFAR-10 Batch 2:  Cost:     0.5698 Accuracy: 0.824324, Valid Accuracy: 0.641800\n",
      "Epoch 15, CIFAR-10 Batch 3:  Cost:     0.4716 Accuracy: 0.868243, Valid Accuracy: 0.661800\n",
      "Epoch 15, CIFAR-10 Batch 4:  Cost:     0.4390 Accuracy: 0.881757, Valid Accuracy: 0.663600\n",
      "Epoch 15, CIFAR-10 Batch 5:  Cost:     0.4407 Accuracy: 0.868243, Valid Accuracy: 0.658200\n",
      "Epoch 16, CIFAR-10 Batch 1:  Cost:     0.5178 Accuracy: 0.831081, Valid Accuracy: 0.657000\n",
      "Epoch 16, CIFAR-10 Batch 2:  Cost:     0.5168 Accuracy: 0.871622, Valid Accuracy: 0.651800\n",
      "Epoch 16, CIFAR-10 Batch 3:  Cost:     0.4189 Accuracy: 0.864865, Valid Accuracy: 0.661600\n",
      "Epoch 16, CIFAR-10 Batch 4:  Cost:     0.4134 Accuracy: 0.912162, Valid Accuracy: 0.665200\n",
      "Epoch 16, CIFAR-10 Batch 5:  Cost:     0.4186 Accuracy: 0.868243, Valid Accuracy: 0.657000\n",
      "Epoch 17, CIFAR-10 Batch 1:  Cost:     0.4622 Accuracy: 0.844595, Valid Accuracy: 0.662000\n",
      "Epoch 17, CIFAR-10 Batch 2:  Cost:     0.4766 Accuracy: 0.864865, Valid Accuracy: 0.663000\n",
      "Epoch 17, CIFAR-10 Batch 3:  Cost:     0.3850 Accuracy: 0.885135, Valid Accuracy: 0.669800\n",
      "Epoch 17, CIFAR-10 Batch 4:  Cost:     0.3751 Accuracy: 0.885135, Valid Accuracy: 0.668600\n",
      "Epoch 17, CIFAR-10 Batch 5:  Cost:     0.3684 Accuracy: 0.908784, Valid Accuracy: 0.664200\n",
      "Epoch 18, CIFAR-10 Batch 1:  Cost:     0.4588 Accuracy: 0.847973, Valid Accuracy: 0.653000\n",
      "Epoch 18, CIFAR-10 Batch 2:  Cost:     0.4311 Accuracy: 0.885135, Valid Accuracy: 0.659400\n",
      "Epoch 18, CIFAR-10 Batch 3:  Cost:     0.3804 Accuracy: 0.888514, Valid Accuracy: 0.660200\n",
      "Epoch 18, CIFAR-10 Batch 4:  Cost:     0.3627 Accuracy: 0.902027, Valid Accuracy: 0.658800\n",
      "Epoch 18, CIFAR-10 Batch 5:  Cost:     0.3576 Accuracy: 0.891892, Valid Accuracy: 0.660200\n",
      "Epoch 19, CIFAR-10 Batch 1:  Cost:     0.3903 Accuracy: 0.875000, Valid Accuracy: 0.668800\n",
      "Epoch 19, CIFAR-10 Batch 2:  Cost:     0.3934 Accuracy: 0.878378, Valid Accuracy: 0.669400\n",
      "Epoch 19, CIFAR-10 Batch 3:  Cost:     0.3409 Accuracy: 0.929054, Valid Accuracy: 0.663400\n",
      "Epoch 19, CIFAR-10 Batch 4:  Cost:     0.3250 Accuracy: 0.932432, Valid Accuracy: 0.672600\n",
      "Epoch 19, CIFAR-10 Batch 5:  Cost:     0.3426 Accuracy: 0.891892, Valid Accuracy: 0.669200\n",
      "Epoch 20, CIFAR-10 Batch 1:  Cost:     0.3849 Accuracy: 0.875000, Valid Accuracy: 0.671000\n",
      "Epoch 20, CIFAR-10 Batch 2:  Cost:     0.3745 Accuracy: 0.912162, Valid Accuracy: 0.673200\n",
      "Epoch 20, CIFAR-10 Batch 3:  Cost:     0.3202 Accuracy: 0.895270, Valid Accuracy: 0.664200\n",
      "Epoch 20, CIFAR-10 Batch 4:  Cost:     0.3203 Accuracy: 0.939189, Valid Accuracy: 0.669200\n",
      "Epoch 20, CIFAR-10 Batch 5:  Cost:     0.3079 Accuracy: 0.922297, Valid Accuracy: 0.669400\n",
      "Epoch 21, CIFAR-10 Batch 1:  Cost:     0.3475 Accuracy: 0.912162, Valid Accuracy: 0.671000\n",
      "Epoch 21, CIFAR-10 Batch 2:  Cost:     0.3755 Accuracy: 0.898649, Valid Accuracy: 0.656400\n",
      "Epoch 21, CIFAR-10 Batch 3:  Cost:     0.3004 Accuracy: 0.915541, Valid Accuracy: 0.669600\n",
      "Epoch 21, CIFAR-10 Batch 4:  Cost:     0.2966 Accuracy: 0.932432, Valid Accuracy: 0.661800\n",
      "Epoch 21, CIFAR-10 Batch 5:  Cost:     0.3411 Accuracy: 0.905405, Valid Accuracy: 0.667800\n",
      "Epoch 22, CIFAR-10 Batch 1:  Cost:     0.3344 Accuracy: 0.908784, Valid Accuracy: 0.670200\n",
      "Epoch 22, CIFAR-10 Batch 2:  Cost:     0.3555 Accuracy: 0.915541, Valid Accuracy: 0.661600\n",
      "Epoch 22, CIFAR-10 Batch 3:  Cost:     0.3213 Accuracy: 0.918919, Valid Accuracy: 0.667200\n",
      "Epoch 22, CIFAR-10 Batch 4:  Cost:     0.2950 Accuracy: 0.939189, Valid Accuracy: 0.665000\n",
      "Epoch 22, CIFAR-10 Batch 5:  Cost:     0.2986 Accuracy: 0.929054, Valid Accuracy: 0.666600\n",
      "Epoch 23, CIFAR-10 Batch 1:  Cost:     0.3412 Accuracy: 0.915541, Valid Accuracy: 0.667000\n",
      "Epoch 23, CIFAR-10 Batch 2:  Cost:     0.3255 Accuracy: 0.905405, Valid Accuracy: 0.674800\n",
      "Epoch 23, CIFAR-10 Batch 3:  Cost:     0.2887 Accuracy: 0.939189, Valid Accuracy: 0.668400\n",
      "Epoch 23, CIFAR-10 Batch 4:  Cost:     0.2909 Accuracy: 0.932432, Valid Accuracy: 0.660800\n",
      "Epoch 23, CIFAR-10 Batch 5:  Cost:     0.2632 Accuracy: 0.939189, Valid Accuracy: 0.675600\n",
      "Epoch 24, CIFAR-10 Batch 1:  Cost:     0.2994 Accuracy: 0.922297, Valid Accuracy: 0.673400\n",
      "Epoch 24, CIFAR-10 Batch 2:  Cost:     0.3016 Accuracy: 0.932432, Valid Accuracy: 0.677600\n",
      "Epoch 24, CIFAR-10 Batch 3:  Cost:     0.2620 Accuracy: 0.942568, Valid Accuracy: 0.677400\n",
      "Epoch 24, CIFAR-10 Batch 4:  Cost:     0.2601 Accuracy: 0.949324, Valid Accuracy: 0.664400\n",
      "Epoch 24, CIFAR-10 Batch 5:  Cost:     0.2584 Accuracy: 0.945946, Valid Accuracy: 0.673600\n",
      "Epoch 25, CIFAR-10 Batch 1:  Cost:     0.2784 Accuracy: 0.939189, Valid Accuracy: 0.675200\n",
      "Epoch 25, CIFAR-10 Batch 2:  Cost:     0.2975 Accuracy: 0.925676, Valid Accuracy: 0.677200\n",
      "Epoch 25, CIFAR-10 Batch 3:  Cost:     0.2397 Accuracy: 0.935811, Valid Accuracy: 0.679400\n",
      "Epoch 25, CIFAR-10 Batch 4:  Cost:     0.2366 Accuracy: 0.959459, Valid Accuracy: 0.673600\n",
      "Epoch 25, CIFAR-10 Batch 5:  Cost:     0.2442 Accuracy: 0.942568, Valid Accuracy: 0.680000\n",
      "Epoch 26, CIFAR-10 Batch 1:  Cost:     0.2543 Accuracy: 0.945946, Valid Accuracy: 0.677400\n",
      "Epoch 26, CIFAR-10 Batch 2:  Cost:     0.2836 Accuracy: 0.939189, Valid Accuracy: 0.683800\n",
      "Epoch 26, CIFAR-10 Batch 3:  Cost:     0.2456 Accuracy: 0.942568, Valid Accuracy: 0.674400\n",
      "Epoch 26, CIFAR-10 Batch 4:  Cost:     0.2485 Accuracy: 0.932432, Valid Accuracy: 0.669600\n",
      "Epoch 26, CIFAR-10 Batch 5:  Cost:     0.2235 Accuracy: 0.939189, Valid Accuracy: 0.676400\n",
      "Epoch 27, CIFAR-10 Batch 1:  Cost:     0.2277 Accuracy: 0.959459, Valid Accuracy: 0.681800\n",
      "Epoch 27, CIFAR-10 Batch 2:  Cost:     0.2438 Accuracy: 0.945946, Valid Accuracy: 0.681400\n",
      "Epoch 27, CIFAR-10 Batch 3:  Cost:     0.2019 Accuracy: 0.962838, Valid Accuracy: 0.682200\n",
      "Epoch 27, CIFAR-10 Batch 4:  Cost:     0.2233 Accuracy: 0.952703, Valid Accuracy: 0.669200\n",
      "Epoch 27, CIFAR-10 Batch 5:  Cost:     0.2114 Accuracy: 0.966216, Valid Accuracy: 0.673000\n",
      "Epoch 28, CIFAR-10 Batch 1:  Cost:     0.2307 Accuracy: 0.952703, Valid Accuracy: 0.675200\n",
      "Epoch 28, CIFAR-10 Batch 2:  Cost:     0.2388 Accuracy: 0.956081, Valid Accuracy: 0.676400\n",
      "Epoch 28, CIFAR-10 Batch 3:  Cost:     0.2012 Accuracy: 0.956081, Valid Accuracy: 0.673600\n",
      "Epoch 28, CIFAR-10 Batch 4:  Cost:     0.2110 Accuracy: 0.945946, Valid Accuracy: 0.670000\n",
      "Epoch 28, CIFAR-10 Batch 5:  Cost:     0.2087 Accuracy: 0.959459, Valid Accuracy: 0.661800\n",
      "Epoch 29, CIFAR-10 Batch 1:  Cost:     0.2290 Accuracy: 0.949324, Valid Accuracy: 0.673200\n",
      "Epoch 29, CIFAR-10 Batch 2:  Cost:     0.2465 Accuracy: 0.945946, Valid Accuracy: 0.680600\n",
      "Epoch 29, CIFAR-10 Batch 3:  Cost:     0.1786 Accuracy: 0.972973, Valid Accuracy: 0.685400\n",
      "Epoch 29, CIFAR-10 Batch 4:  Cost:     0.2015 Accuracy: 0.959459, Valid Accuracy: 0.669000\n",
      "Epoch 29, CIFAR-10 Batch 5:  Cost:     0.1950 Accuracy: 0.962838, Valid Accuracy: 0.675600\n",
      "Epoch 30, CIFAR-10 Batch 1:  Cost:     0.2023 Accuracy: 0.959459, Valid Accuracy: 0.677200\n",
      "Epoch 30, CIFAR-10 Batch 2:  Cost:     0.2306 Accuracy: 0.952703, Valid Accuracy: 0.680600\n",
      "Epoch 30, CIFAR-10 Batch 3:  Cost:     0.1855 Accuracy: 0.945946, Valid Accuracy: 0.681400\n",
      "Epoch 30, CIFAR-10 Batch 4:  Cost:     0.1719 Accuracy: 0.969595, Valid Accuracy: 0.672200\n",
      "Epoch 30, CIFAR-10 Batch 5:  Cost:     0.1611 Accuracy: 0.989865, Valid Accuracy: 0.685600\n",
      "Epoch 31, CIFAR-10 Batch 1:  Cost:     0.1869 Accuracy: 0.969595, Valid Accuracy: 0.678000\n",
      "Epoch 31, CIFAR-10 Batch 2:  Cost:     0.2153 Accuracy: 0.959459, Valid Accuracy: 0.677800\n",
      "Epoch 31, CIFAR-10 Batch 3:  Cost:     0.1688 Accuracy: 0.979730, Valid Accuracy: 0.678800\n",
      "Epoch 31, CIFAR-10 Batch 4:  Cost:     0.1771 Accuracy: 0.972973, Valid Accuracy: 0.664800\n",
      "Epoch 31, CIFAR-10 Batch 5:  Cost:     0.1687 Accuracy: 0.979730, Valid Accuracy: 0.680200\n",
      "Epoch 32, CIFAR-10 Batch 1:  Cost:     0.1763 Accuracy: 0.966216, Valid Accuracy: 0.684800\n",
      "Epoch 32, CIFAR-10 Batch 2:  Cost:     0.1903 Accuracy: 0.959459, Valid Accuracy: 0.676200\n",
      "Epoch 32, CIFAR-10 Batch 3:  Cost:     0.1632 Accuracy: 0.969595, Valid Accuracy: 0.690800\n",
      "Epoch 32, CIFAR-10 Batch 4:  Cost:     0.1517 Accuracy: 0.983108, Valid Accuracy: 0.677600\n",
      "Epoch 32, CIFAR-10 Batch 5:  Cost:     0.1421 Accuracy: 0.986486, Valid Accuracy: 0.684800\n",
      "Epoch 33, CIFAR-10 Batch 1:  Cost:     0.1599 Accuracy: 0.976351, Valid Accuracy: 0.682800\n",
      "Epoch 33, CIFAR-10 Batch 2:  Cost:     0.1790 Accuracy: 0.969595, Valid Accuracy: 0.678400\n",
      "Epoch 33, CIFAR-10 Batch 3:  Cost:     0.1459 Accuracy: 0.972973, Valid Accuracy: 0.684000\n",
      "Epoch 33, CIFAR-10 Batch 4:  Cost:     0.1361 Accuracy: 0.976351, Valid Accuracy: 0.676200\n",
      "Epoch 33, CIFAR-10 Batch 5:  Cost:     0.1415 Accuracy: 0.976351, Valid Accuracy: 0.678800\n",
      "Epoch 34, CIFAR-10 Batch 1:  Cost:     0.1537 Accuracy: 0.983108, Valid Accuracy: 0.687400\n",
      "Epoch 34, CIFAR-10 Batch 2:  Cost:     0.1694 Accuracy: 0.962838, Valid Accuracy: 0.678400\n",
      "Epoch 34, CIFAR-10 Batch 3:  Cost:     0.1352 Accuracy: 0.983108, Valid Accuracy: 0.683000\n",
      "Epoch 34, CIFAR-10 Batch 4:  Cost:     0.1160 Accuracy: 0.986486, Valid Accuracy: 0.675000\n",
      "Epoch 34, CIFAR-10 Batch 5:  Cost:     0.1375 Accuracy: 0.983108, Valid Accuracy: 0.676800\n",
      "Epoch 35, CIFAR-10 Batch 1:  Cost:     0.1569 Accuracy: 0.972973, Valid Accuracy: 0.681000\n",
      "Epoch 35, CIFAR-10 Batch 2:  Cost:     0.1908 Accuracy: 0.959459, Valid Accuracy: 0.662400\n",
      "Epoch 35, CIFAR-10 Batch 3:  Cost:     0.1259 Accuracy: 0.983108, Valid Accuracy: 0.679200\n",
      "Epoch 35, CIFAR-10 Batch 4:  Cost:     0.1245 Accuracy: 0.979730, Valid Accuracy: 0.683200\n",
      "Epoch 35, CIFAR-10 Batch 5:  Cost:     0.1151 Accuracy: 0.993243, Valid Accuracy: 0.677400\n",
      "Epoch 36, CIFAR-10 Batch 1:  Cost:     0.1387 Accuracy: 0.989865, Valid Accuracy: 0.690000\n",
      "Epoch 36, CIFAR-10 Batch 2:  Cost:     0.1465 Accuracy: 0.969595, Valid Accuracy: 0.681400\n",
      "Epoch 36, CIFAR-10 Batch 3:  Cost:     0.1333 Accuracy: 0.976351, Valid Accuracy: 0.693600\n",
      "Epoch 36, CIFAR-10 Batch 4:  Cost:     0.1218 Accuracy: 0.979730, Valid Accuracy: 0.677600\n",
      "Epoch 36, CIFAR-10 Batch 5:  Cost:     0.1111 Accuracy: 0.993243, Valid Accuracy: 0.686000\n",
      "Epoch 37, CIFAR-10 Batch 1:  Cost:     0.1238 Accuracy: 0.983108, Valid Accuracy: 0.686600\n",
      "Epoch 37, CIFAR-10 Batch 2:  Cost:     0.1502 Accuracy: 0.976351, Valid Accuracy: 0.684000\n",
      "Epoch 37, CIFAR-10 Batch 3:  Cost:     0.1208 Accuracy: 0.983108, Valid Accuracy: 0.682600\n",
      "Epoch 37, CIFAR-10 Batch 4:  Cost:     0.0939 Accuracy: 0.986487, Valid Accuracy: 0.683800\n",
      "Epoch 37, CIFAR-10 Batch 5:  Cost:     0.1058 Accuracy: 0.989865, Valid Accuracy: 0.685400\n",
      "Epoch 38, CIFAR-10 Batch 1:  Cost:     0.1288 Accuracy: 0.976351, Valid Accuracy: 0.686800\n",
      "Epoch 38, CIFAR-10 Batch 2:  Cost:     0.1409 Accuracy: 0.976351, Valid Accuracy: 0.684400\n",
      "Epoch 38, CIFAR-10 Batch 3:  Cost:     0.1072 Accuracy: 0.989865, Valid Accuracy: 0.683600\n",
      "Epoch 38, CIFAR-10 Batch 4:  Cost:     0.1073 Accuracy: 0.989865, Valid Accuracy: 0.687400\n",
      "Epoch 38, CIFAR-10 Batch 5:  Cost:     0.1250 Accuracy: 0.986487, Valid Accuracy: 0.682400\n",
      "Epoch 39, CIFAR-10 Batch 1:  Cost:     0.1340 Accuracy: 0.979730, Valid Accuracy: 0.686400\n",
      "Epoch 39, CIFAR-10 Batch 2:  Cost:     0.1491 Accuracy: 0.976351, Valid Accuracy: 0.678000\n",
      "Epoch 39, CIFAR-10 Batch 3:  Cost:     0.1102 Accuracy: 0.979730, Valid Accuracy: 0.677600\n",
      "Epoch 39, CIFAR-10 Batch 4:  Cost:     0.1095 Accuracy: 1.000000, Valid Accuracy: 0.675200\n",
      "Epoch 39, CIFAR-10 Batch 5:  Cost:     0.1134 Accuracy: 0.989865, Valid Accuracy: 0.681000\n",
      "Epoch 40, CIFAR-10 Batch 1:  Cost:     0.1156 Accuracy: 0.993243, Valid Accuracy: 0.685800\n",
      "Epoch 40, CIFAR-10 Batch 2:  Cost:     0.1312 Accuracy: 0.976351, Valid Accuracy: 0.680000\n",
      "Epoch 40, CIFAR-10 Batch 3:  Cost:     0.1065 Accuracy: 0.989865, Valid Accuracy: 0.687600\n",
      "Epoch 40, CIFAR-10 Batch 4:  Cost:     0.0990 Accuracy: 0.989865, Valid Accuracy: 0.679200\n",
      "Epoch 40, CIFAR-10 Batch 5:  Cost:     0.1040 Accuracy: 0.996622, Valid Accuracy: 0.682000\n",
      "Epoch 41, CIFAR-10 Batch 1:  Cost:     0.1125 Accuracy: 0.983108, Valid Accuracy: 0.683600\n",
      "Epoch 41, CIFAR-10 Batch 2:  Cost:     0.1166 Accuracy: 0.983108, Valid Accuracy: 0.678800\n",
      "Epoch 41, CIFAR-10 Batch 3:  Cost:     0.1021 Accuracy: 0.986486, Valid Accuracy: 0.685800\n",
      "Epoch 41, CIFAR-10 Batch 4:  Cost:     0.0934 Accuracy: 0.993243, Valid Accuracy: 0.682800\n",
      "Epoch 41, CIFAR-10 Batch 5:  Cost:     0.0999 Accuracy: 1.000000, Valid Accuracy: 0.681000\n",
      "Epoch 42, CIFAR-10 Batch 1:  Cost:     0.1097 Accuracy: 0.986486, Valid Accuracy: 0.687800\n",
      "Epoch 42, CIFAR-10 Batch 2:  Cost:     0.1339 Accuracy: 0.976351, Valid Accuracy: 0.675400\n",
      "Epoch 42, CIFAR-10 Batch 3:  Cost:     0.1037 Accuracy: 0.979730, Valid Accuracy: 0.682400\n",
      "Epoch 42, CIFAR-10 Batch 4:  Cost:     0.1008 Accuracy: 0.993243, Valid Accuracy: 0.684000\n",
      "Epoch 42, CIFAR-10 Batch 5:  Cost:     0.1045 Accuracy: 1.000000, Valid Accuracy: 0.677400\n",
      "Epoch 43, CIFAR-10 Batch 1:  Cost:     0.1115 Accuracy: 0.989865, Valid Accuracy: 0.680800\n",
      "Epoch 43, CIFAR-10 Batch 2:  Cost:     0.1238 Accuracy: 0.983108, Valid Accuracy: 0.681200\n",
      "Epoch 43, CIFAR-10 Batch 3:  Cost:     0.0896 Accuracy: 0.986486, Valid Accuracy: 0.688800\n",
      "Epoch 43, CIFAR-10 Batch 4:  Cost:     0.0810 Accuracy: 0.996622, Valid Accuracy: 0.683000\n",
      "Epoch 43, CIFAR-10 Batch 5:  Cost:     0.0833 Accuracy: 1.000000, Valid Accuracy: 0.689400\n",
      "Epoch 44, CIFAR-10 Batch 1:  Cost:     0.1002 Accuracy: 0.986487, Valid Accuracy: 0.688200\n",
      "Epoch 44, CIFAR-10 Batch 2:  Cost:     0.1045 Accuracy: 0.983108, Valid Accuracy: 0.685600\n",
      "Epoch 44, CIFAR-10 Batch 3:  Cost:     0.0863 Accuracy: 0.986486, Valid Accuracy: 0.687200\n",
      "Epoch 44, CIFAR-10 Batch 4:  Cost:     0.0843 Accuracy: 0.989865, Valid Accuracy: 0.681800\n",
      "Epoch 44, CIFAR-10 Batch 5:  Cost:     0.0906 Accuracy: 0.996622, Valid Accuracy: 0.682400\n",
      "Epoch 45, CIFAR-10 Batch 1:  Cost:     0.0929 Accuracy: 0.996622, Valid Accuracy: 0.679400\n",
      "Epoch 45, CIFAR-10 Batch 2:  Cost:     0.1114 Accuracy: 0.993243, Valid Accuracy: 0.672600\n",
      "Epoch 45, CIFAR-10 Batch 3:  Cost:     0.0847 Accuracy: 0.993243, Valid Accuracy: 0.686200\n",
      "Epoch 45, CIFAR-10 Batch 4:  Cost:     0.0872 Accuracy: 0.983108, Valid Accuracy: 0.680600\n",
      "Epoch 45, CIFAR-10 Batch 5:  Cost:     0.0878 Accuracy: 0.993243, Valid Accuracy: 0.688400\n",
      "Epoch 46, CIFAR-10 Batch 1:  Cost:     0.0917 Accuracy: 0.993243, Valid Accuracy: 0.684200\n",
      "Epoch 46, CIFAR-10 Batch 2:  Cost:     0.0980 Accuracy: 0.986486, Valid Accuracy: 0.684200\n",
      "Epoch 46, CIFAR-10 Batch 3:  Cost:     0.0812 Accuracy: 0.989865, Valid Accuracy: 0.683000\n",
      "Epoch 46, CIFAR-10 Batch 4:  Cost:     0.0683 Accuracy: 0.996622, Valid Accuracy: 0.687200\n",
      "Epoch 46, CIFAR-10 Batch 5:  Cost:     0.0792 Accuracy: 0.993243, Valid Accuracy: 0.682600\n",
      "Epoch 47, CIFAR-10 Batch 1:  Cost:     0.0867 Accuracy: 0.993243, Valid Accuracy: 0.677600\n",
      "Epoch 47, CIFAR-10 Batch 2:  Cost:     0.0954 Accuracy: 0.989865, Valid Accuracy: 0.678600\n",
      "Epoch 47, CIFAR-10 Batch 3:  Cost:     0.0790 Accuracy: 0.989865, Valid Accuracy: 0.683400\n",
      "Epoch 47, CIFAR-10 Batch 4:  Cost:     0.0778 Accuracy: 0.996622, Valid Accuracy: 0.678600\n",
      "Epoch 47, CIFAR-10 Batch 5:  Cost:     0.0732 Accuracy: 1.000000, Valid Accuracy: 0.684200\n",
      "Epoch 48, CIFAR-10 Batch 1:  Cost:     0.0904 Accuracy: 0.993243, Valid Accuracy: 0.685800\n",
      "Epoch 48, CIFAR-10 Batch 2:  Cost:     0.0992 Accuracy: 0.986486, Valid Accuracy: 0.675200\n",
      "Epoch 48, CIFAR-10 Batch 3:  Cost:     0.0768 Accuracy: 0.989865, Valid Accuracy: 0.688600\n",
      "Epoch 48, CIFAR-10 Batch 4:  Cost:     0.0737 Accuracy: 0.989865, Valid Accuracy: 0.684800\n",
      "Epoch 48, CIFAR-10 Batch 5:  Cost:     0.0717 Accuracy: 1.000000, Valid Accuracy: 0.688400\n",
      "Epoch 49, CIFAR-10 Batch 1:  Cost:     0.0826 Accuracy: 0.993243, Valid Accuracy: 0.679600\n",
      "Epoch 49, CIFAR-10 Batch 2:  Cost:     0.0869 Accuracy: 0.983108, Valid Accuracy: 0.688400\n",
      "Epoch 49, CIFAR-10 Batch 3:  Cost:     0.0815 Accuracy: 0.989865, Valid Accuracy: 0.690200\n",
      "Epoch 49, CIFAR-10 Batch 4:  Cost:     0.0769 Accuracy: 0.996622, Valid Accuracy: 0.686400\n",
      "Epoch 49, CIFAR-10 Batch 5:  Cost:     0.0681 Accuracy: 1.000000, Valid Accuracy: 0.681800\n",
      "Epoch 50, CIFAR-10 Batch 1:  Cost:     0.0844 Accuracy: 0.989865, Valid Accuracy: 0.687400\n",
      "Epoch 50, CIFAR-10 Batch 2:  Cost:     0.0888 Accuracy: 0.993243, Valid Accuracy: 0.688800\n",
      "Epoch 50, CIFAR-10 Batch 3:  Cost:     0.0676 Accuracy: 0.993243, Valid Accuracy: 0.690400\n",
      "Epoch 50, CIFAR-10 Batch 4:  Cost:     0.0757 Accuracy: 0.993243, Valid Accuracy: 0.679200\n",
      "Epoch 50, CIFAR-10 Batch 5:  Cost:     0.0713 Accuracy: 1.000000, Valid Accuracy: 0.692200\n"
     ]
    }
   ],
   "source": [
    "\"\"\"\n",
    "DON'T MODIFY ANYTHING IN THIS CELL\n",
    "\"\"\"\n",
    "save_model_path = './image_classification'\n",
    "\n",
    "print('Training...')\n",
    "with tf.Session() as sess:\n",
    "    # Initializing the variables\n",
    "    sess.run(tf.global_variables_initializer())\n",
    "    \n",
    "    # Training cycle\n",
    "    for epoch in range(epochs):\n",
    "        # Loop over all batches\n",
    "        n_batches = 5\n",
    "        for batch_i in range(1, n_batches + 1):\n",
    "            for batch_features, batch_labels in helper.load_preprocess_training_batch(batch_i, batch_size):\n",
    "                train_neural_network(sess, optimizer, keep_probability, batch_features, batch_labels)\n",
    "            print('Epoch {:>2}, CIFAR-10 Batch {}:  '.format(epoch + 1, batch_i), end='')\n",
    "            print_stats(sess, batch_features, batch_labels, cost, accuracy)\n",
    "            \n",
    "    # Save Model\n",
    "    saver = tf.train.Saver()\n",
    "    save_path = saver.save(sess, save_model_path)"
   ]
  },
  {
   "cell_type": "markdown",
   "metadata": {
    "deletable": true,
    "editable": true
   },
   "source": [
    "# Checkpoint\n",
    "The model has been saved to disk.\n",
    "## Test Model\n",
    "Test your model against the test dataset.  This will be your final accuracy. You should have an accuracy greater than 50%. If you don't, keep tweaking the model architecture and parameters."
   ]
  },
  {
   "cell_type": "code",
   "execution_count": 30,
   "metadata": {
    "collapsed": false,
    "deletable": true,
    "editable": true
   },
   "outputs": [
    {
     "name": "stdout",
     "output_type": "stream",
     "text": [
      "Testing Accuracy: 0.6841050088405609\n",
      "\n"
     ]
    },
    {
     "data": {
      "image/png": "[encoded data removed]",
      "text/plain": [
       "<matplotlib.figure.Figure at 0x7ff5a35b1f60>"
      ]
     },
     "metadata": {
      "image/png": {
       "height": 319,
       "width": 355
      }
     },
     "output_type": "display_data"
    }
   ],
   "source": [
    "\"\"\"\n",
    "DON'T MODIFY ANYTHING IN THIS CELL\n",
    "\"\"\"\n",
    "%matplotlib inline\n",
    "%config InlineBackend.figure_format = 'retina'\n",
    "\n",
    "import tensorflow as tf\n",
    "import pickle\n",
    "import helper\n",
    "import random\n",
    "\n",
    "# Set batch size if not already set\n",
    "try:\n",
    "    if batch_size:\n",
    "        pass\n",
    "except NameError:\n",
    "    batch_size = 64\n",
    "\n",
    "save_model_path = './image_classification'\n",
    "n_samples = 4\n",
    "top_n_predictions = 3\n",
    "\n",
    "def test_model():\n",
    "    \"\"\"\n",
    "    Test the saved model against the test dataset\n",
    "    \"\"\"\n",
    "\n",
    "    test_features, test_labels = pickle.load(open('preprocess_training.p', mode='rb'))\n",
    "    loaded_graph = tf.Graph()\n",
    "\n",
    "    with tf.Session(graph=loaded_graph) as sess:\n",
    "        # Load model\n",
    "        loader = tf.train.import_meta_graph(save_model_path + '.meta')\n",
    "        loader.restore(sess, save_model_path)\n",
    "\n",
    "        # Get Tensors from loaded model\n",
    "        loaded_x = loaded_graph.get_tensor_by_name('x:0')\n",
    "        loaded_y = loaded_graph.get_tensor_by_name('y:0')\n",
    "        loaded_keep_prob = loaded_graph.get_tensor_by_name('keep_prob:0')\n",
    "        loaded_logits = loaded_graph.get_tensor_by_name('logits:0')\n",
    "        loaded_acc = loaded_graph.get_tensor_by_name('accuracy:0')\n",
    "        \n",
    "        # Get accuracy in batches for memory limitations\n",
    "        test_batch_acc_total = 0\n",
    "        test_batch_count = 0\n",
    "        \n",
    "        for train_feature_batch, train_label_batch in helper.batch_features_labels(test_features, test_labels, batch_size):\n",
    "            test_batch_acc_total += sess.run(\n",
    "                loaded_acc,\n",
    "                feed_dict={loaded_x: train_feature_batch, loaded_y: train_label_batch, loaded_keep_prob: 1.0})\n",
    "            test_batch_count += 1\n",
    "\n",
    "        print('Testing Accuracy: {}\\n'.format(test_batch_acc_total/test_batch_count))\n",
    "\n",
    "        # Print Random Samples\n",
    "        random_test_features, random_test_labels = tuple(zip(*random.sample(list(zip(test_features, test_labels)), n_samples)))\n",
    "        random_test_predictions = sess.run(\n",
    "            tf.nn.top_k(tf.nn.softmax(loaded_logits), top_n_predictions),\n",
    "            feed_dict={loaded_x: random_test_features, loaded_y: random_test_labels, loaded_keep_prob: 1.0})\n",
    "        helper.display_image_predictions(random_test_features, random_test_labels, random_test_predictions)\n",
    "\n",
    "\n",
    "test_model()"
   ]
  },
  {
   "cell_type": "markdown",
   "metadata": {
    "deletable": true,
    "editable": true
   },
   "source": [
    "## Why 50-80% Accuracy?\n",
    "You might be wondering why you can't get an accuracy any higher. First things first, 50% isn't bad for a simple CNN.  Pure guessing would get you 10% accuracy. However, you might notice people are getting scores [well above 80%](http://rodrigob.github.io/are_we_there_yet/build/classification_datasets_results.html#43494641522d3130).  That's because we haven't taught you all there is to know about neural networks. We still need to cover a few more techniques.\n",
    "## Submitting This Project\n",
    "When submitting this project, make sure to run all the cells before saving the notebook.  Save the notebook file as \"dlnd_image_classification.ipynb\" and save it as a HTML file under \"File\" -> \"Download as\".  Include the \"helper.py\" and \"problem_unittests.py\" files in your submission."
   ]
  }
 ],
 "metadata": {
  "anaconda-cloud": {},
  "kernelspec": {
   "display_name": "Python 3",
   "language": "python",
   "name": "python3"
  },
  "language_info": {
   "codemirror_mode": {
    "name": "ipython",
    "version": 3
   },
   "file_extension": ".py",
   "mimetype": "text/x-python",
   "name": "python",
   "nbconvert_exporter": "python",
   "pygments_lexer": "ipython3",
   "version": "3.5.2"
  },
  "widgets": {
   "state": {},
   "version": "1.1.2"
  }
 },
 "nbformat": 4,
 "nbformat_minor": 0
}
