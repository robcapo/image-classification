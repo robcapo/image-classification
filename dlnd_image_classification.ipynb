{
 "cells": [
  {
   "cell_type": "markdown",
   "metadata": {
    "collapsed": true,
    "deletable": true,
    "editable": true
   },
   "source": [
    "# Image Classification\n",
    "In this project, you'll classify images from the [CIFAR-10 dataset](https://www.cs.toronto.edu/~kriz/cifar.html).  The dataset consists of airplanes, dogs, cats, and other objects. You'll preprocess the images, then train a convolutional neural network on all the samples. The images need to be normalized and the labels need to be one-hot encoded.  You'll get to apply what you learned and build a convolutional, max pooling, dropout, and fully connected layers.  At the end, you'll get to see your neural network's predictions on the sample images.\n",
    "## Get the Data\n",
    "Run the following cell to download the [CIFAR-10 dataset for python](https://www.cs.toronto.edu/~kriz/cifar-10-python.tar.gz)."
   ]
  },
  {
   "cell_type": "code",
   "execution_count": 6,
   "metadata": {
    "collapsed": false,
    "deletable": true,
    "editable": true
   },
   "outputs": [
    {
     "name": "stdout",
     "output_type": "stream",
     "text": [
      "All files found!\n"
     ]
    }
   ],
   "source": [
    "\"\"\"\n",
    "DON'T MODIFY ANYTHING IN THIS CELL THAT IS BELOW THIS LINE\n",
    "\"\"\"\n",
    "from urllib.request import urlretrieve\n",
    "from os.path import isfile, isdir\n",
    "from tqdm import tqdm\n",
    "import problem_unittests as tests\n",
    "import tarfile\n",
    "from sklearn.preprocessing import LabelBinarizer\n",
    "\n",
    "cifar10_dataset_folder_path = 'cifar-10-batches-py'\n",
    "\n",
    "class DLProgress(tqdm):\n",
    "    last_block = 0\n",
    "\n",
    "    def hook(self, block_num=1, block_size=1, total_size=None):\n",
    "        self.total = total_size\n",
    "        self.update((block_num - self.last_block) * block_size)\n",
    "        self.last_block = block_num\n",
    "\n",
    "if not isfile('cifar-10-python.tar.gz'):\n",
    "    with DLProgress(unit='B', unit_scale=True, miniters=1, desc='CIFAR-10 Dataset') as pbar:\n",
    "        urlretrieve(\n",
    "            'https://www.cs.toronto.edu/~kriz/cifar-10-python.tar.gz',\n",
    "            'cifar-10-python.tar.gz',\n",
    "            pbar.hook)\n",
    "\n",
    "if not isdir(cifar10_dataset_folder_path):\n",
    "    with tarfile.open('cifar-10-python.tar.gz') as tar:\n",
    "        tar.extractall()\n",
    "        tar.close()\n",
    "\n",
    "\n",
    "tests.test_folder_path(cifar10_dataset_folder_path)"
   ]
  },
  {
   "cell_type": "markdown",
   "metadata": {
    "deletable": true,
    "editable": true
   },
   "source": [
    "## Explore the Data\n",
    "The dataset is broken into batches to prevent your machine from running out of memory.  The CIFAR-10 dataset consists of 5 batches, named `data_batch_1`, `data_batch_2`, etc.. Each batch contains the labels and images that are one of the following:\n",
    "* airplane\n",
    "* automobile\n",
    "* bird\n",
    "* cat\n",
    "* deer\n",
    "* dog\n",
    "* frog\n",
    "* horse\n",
    "* ship\n",
    "* truck\n",
    "\n",
    "Understanding a dataset is part of making predictions on the data.  Play around with the code cell below by changing the `batch_id` and `sample_id`. The `batch_id` is the id for a batch (1-5). The `sample_id` is the id for a image and label pair in the batch.\n",
    "\n",
    "Ask yourself \"What are all possible labels?\", \"What is the range of values for the image data?\", \"Are the labels in order or random?\".  Answers to questions like these will help you preprocess the data and end up with better predictions."
   ]
  },
  {
   "cell_type": "code",
   "execution_count": 7,
   "metadata": {
    "collapsed": false,
    "deletable": true,
    "editable": true
   },
   "outputs": [
    {
     "name": "stdout",
     "output_type": "stream",
     "text": [
      "\n",
      "Stats of batch 1:\n",
      "Samples: 10000\n",
      "Label Counts: {0: 1005, 1: 974, 2: 1032, 3: 1016, 4: 999, 5: 937, 6: 1030, 7: 1001, 8: 1025, 9: 981}\n",
      "First 20 Labels: [6, 9, 9, 4, 1, 1, 2, 7, 8, 3, 4, 7, 7, 2, 9, 9, 9, 3, 2, 6]\n",
      "\n",
      "Example of Image 7:\n",
      "Image - Min Value: 9 Max Value: 248\n",
      "Image - Shape: (32, 32, 3)\n",
      "Label - Label Id: 7 Name: horse\n"
     ]
    },
    {
     "data": {
      "image/png": "[encoded data removed]",
      "text/plain": [
       "<matplotlib.figure.Figure at 0x7f1bb3a731d0>"
      ]
     },
     "metadata": {
      "image/png": {
       "height": 250,
       "width": 253
      }
     },
     "output_type": "display_data"
    }
   ],
   "source": [
    "%matplotlib inline\n",
    "%config InlineBackend.figure_format = 'retina'\n",
    "\n",
    "import helper\n",
    "import numpy as np\n",
    "\n",
    "# Explore the dataset\n",
    "batch_id = 1\n",
    "sample_id = 7\n",
    "helper.display_stats(cifar10_dataset_folder_path, batch_id, sample_id)"
   ]
  },
  {
   "cell_type": "markdown",
   "metadata": {
    "deletable": true,
    "editable": true
   },
   "source": [
    "## Implement Preprocess Functions\n",
    "### Normalize\n",
    "In the cell below, implement the `normalize` function to take in image data, `x`, and return it as a normalized Numpy array. The values should be in the range of 0 to 1, inclusive.  The return object should be the same shape as `x`."
   ]
  },
  {
   "cell_type": "code",
   "execution_count": 42,
   "metadata": {
    "collapsed": false,
    "deletable": true,
    "editable": true
   },
   "outputs": [
    {
     "name": "stdout",
     "output_type": "stream",
     "text": [
      "Tests Passed\n"
     ]
    }
   ],
   "source": [
    "def normalize(x):\n",
    "    \"\"\"\n",
    "    Normalize a list of sample image data in the range of 0 to 1\n",
    "    : x: List of image data.  The image shape is (32, 32, 3)\n",
    "    : return: Numpy array of normalize data\n",
    "    \"\"\"\n",
    "    return (x - x.min()) / (x.max() - x.min())\n",
    "\n",
    "\n",
    "\"\"\"\n",
    "DON'T MODIFY ANYTHING IN THIS CELL THAT IS BELOW THIS LINE\n",
    "\"\"\"\n",
    "tests.test_normalize(normalize)"
   ]
  },
  {
   "cell_type": "markdown",
   "metadata": {
    "deletable": true,
    "editable": true
   },
   "source": [
    "### One-hot encode\n",
    "Just like the previous code cell, you'll be implementing a function for preprocessing.  This time, you'll implement the `one_hot_encode` function. The input, `x`, are a list of labels.  Implement the function to return the list of labels as One-Hot encoded Numpy array.  The possible values for labels are 0 to 9. The one-hot encoding function should return the same encoding for each value between each call to `one_hot_encode`.  Make sure to save the map of encodings outside the function.\n",
    "\n",
    "Hint: Don't reinvent the wheel."
   ]
  },
  {
   "cell_type": "code",
   "execution_count": 43,
   "metadata": {
    "collapsed": false,
    "deletable": true,
    "editable": true
   },
   "outputs": [
    {
     "name": "stdout",
     "output_type": "stream",
     "text": [
      "Tests Passed\n"
     ]
    }
   ],
   "source": [
    "lb = LabelBinarizer().fit(np.arange(10))\n",
    "def one_hot_encode(x):\n",
    "    \"\"\"\n",
    "    One hot encode a list of sample labels. Return a one-hot encoded vector for each label.\n",
    "    : x: List of sample Labels\n",
    "    : return: Numpy array of one-hot encoded labels\n",
    "    \"\"\"\n",
    "    return lb.transform(x)\n",
    "\n",
    "\n",
    "\"\"\"\n",
    "DON'T MODIFY ANYTHING IN THIS CELL THAT IS BELOW THIS LINE\n",
    "\"\"\"\n",
    "tests.test_one_hot_encode(one_hot_encode)"
   ]
  },
  {
   "cell_type": "markdown",
   "metadata": {
    "deletable": true,
    "editable": true
   },
   "source": [
    "### Randomize Data\n",
    "As you saw from exploring the data above, the order of the samples are randomized.  It doesn't hurt to randomize it again, but you don't need to for this dataset."
   ]
  },
  {
   "cell_type": "markdown",
   "metadata": {
    "deletable": true,
    "editable": true
   },
   "source": [
    "## Preprocess all the data and save it\n",
    "Running the code cell below will preprocess all the CIFAR-10 data and save it to file. The code below also uses 10% of the training data for validation."
   ]
  },
  {
   "cell_type": "code",
   "execution_count": 44,
   "metadata": {
    "collapsed": false,
    "deletable": true,
    "editable": true
   },
   "outputs": [],
   "source": [
    "\"\"\"\n",
    "DON'T MODIFY ANYTHING IN THIS CELL\n",
    "\"\"\"\n",
    "# Preprocess Training, Validation, and Testing Data\n",
    "helper.preprocess_and_save_data(cifar10_dataset_folder_path, normalize, one_hot_encode)"
   ]
  },
  {
   "cell_type": "markdown",
   "metadata": {
    "deletable": true,
    "editable": true
   },
   "source": [
    "# Check Point\n",
    "This is your first checkpoint.  If you ever decide to come back to this notebook or have to restart the notebook, you can start from here.  The preprocessed data has been saved to disk."
   ]
  },
  {
   "cell_type": "code",
   "execution_count": 45,
   "metadata": {
    "collapsed": true,
    "deletable": true,
    "editable": true
   },
   "outputs": [],
   "source": [
    "\"\"\"\n",
    "DON'T MODIFY ANYTHING IN THIS CELL\n",
    "\"\"\"\n",
    "import pickle\n",
    "import problem_unittests as tests\n",
    "import helper\n",
    "\n",
    "# Load the Preprocessed Validation data\n",
    "valid_features, valid_labels = pickle.load(open('preprocess_validation.p', mode='rb'))"
   ]
  },
  {
   "cell_type": "markdown",
   "metadata": {
    "deletable": true,
    "editable": true
   },
   "source": [
    "## Build the network\n",
    "For the neural network, you'll build each layer into a function.  Most of the code you've seen has been outside of functions. To test your code more thoroughly, we require that you put each layer in a function.  This allows us to give you better feedback and test for simple mistakes using our unittests before you submit your project.\n",
    "\n",
    ">**Note:** If you're finding it hard to dedicate enough time for this course each week, we've provided a small shortcut to this part of the project. In the next couple of problems, you'll have the option to use classes from the [TensorFlow Layers](https://www.tensorflow.org/api_docs/python/tf/layers) or [TensorFlow Layers (contrib)](https://www.tensorflow.org/api_guides/python/contrib.layers) packages to build each layer, except the layers you build in the \"Convolutional and Max Pooling Layer\" section.  TF Layers is similar to Keras's and TFLearn's abstraction to layers, so it's easy to pickup.\n",
    "\n",
    ">However, if you would like to get the most out of this course, try to solve all the problems _without_ using anything from the TF Layers packages. You **can** still use classes from other packages that happen to have the same name as ones you find in TF Layers! For example, instead of using the TF Layers version of the `conv2d` class, [tf.layers.conv2d](https://www.tensorflow.org/api_docs/python/tf/layers/conv2d), you would want to use the TF Neural Network version of `conv2d`, [tf.nn.conv2d](https://www.tensorflow.org/api_docs/python/tf/nn/conv2d). \n",
    "\n",
    "Let's begin!\n",
    "\n",
    "### Input\n",
    "The neural network needs to read the image data, one-hot encoded labels, and dropout keep probability. Implement the following functions\n",
    "* Implement `neural_net_image_input`\n",
    " * Return a [TF Placeholder](https://www.tensorflow.org/api_docs/python/tf/placeholder)\n",
    " * Set the shape using `image_shape` with batch size set to `None`.\n",
    " * Name the TensorFlow placeholder \"x\" using the TensorFlow `name` parameter in the [TF Placeholder](https://www.tensorflow.org/api_docs/python/tf/placeholder).\n",
    "* Implement `neural_net_label_input`\n",
    " * Return a [TF Placeholder](https://www.tensorflow.org/api_docs/python/tf/placeholder)\n",
    " * Set the shape using `n_classes` with batch size set to `None`.\n",
    " * Name the TensorFlow placeholder \"y\" using the TensorFlow `name` parameter in the [TF Placeholder](https://www.tensorflow.org/api_docs/python/tf/placeholder).\n",
    "* Implement `neural_net_keep_prob_input`\n",
    " * Return a [TF Placeholder](https://www.tensorflow.org/api_docs/python/tf/placeholder) for dropout keep probability.\n",
    " * Name the TensorFlow placeholder \"keep_prob\" using the TensorFlow `name` parameter in the [TF Placeholder](https://www.tensorflow.org/api_docs/python/tf/placeholder).\n",
    "\n",
    "These names will be used at the end of the project to load your saved model.\n",
    "\n",
    "Note: `None` for shapes in TensorFlow allow for a dynamic size."
   ]
  },
  {
   "cell_type": "code",
   "execution_count": 12,
   "metadata": {
    "collapsed": false,
    "deletable": true,
    "editable": true
   },
   "outputs": [
    {
     "name": "stdout",
     "output_type": "stream",
     "text": [
      "Image Input Tests Passed.\n",
      "Label Input Tests Passed.\n",
      "Keep Prob Tests Passed.\n"
     ]
    }
   ],
   "source": [
    "import tensorflow as tf\n",
    "\n",
    "def neural_net_image_input(image_shape):\n",
    "    \"\"\"\n",
    "    Return a Tensor for a batch of image input\n",
    "    : image_shape: Shape of the images\n",
    "    : return: Tensor for image input.\n",
    "    \"\"\"\n",
    "    return tf.placeholder(tf.float32, shape=[None, image_shape[0], image_shape[1], image_shape[2]], name=\"x\")\n",
    "\n",
    "\n",
    "def neural_net_label_input(n_classes):\n",
    "    \"\"\"\n",
    "    Return a Tensor for a batch of label input\n",
    "    : n_classes: Number of classes\n",
    "    : return: Tensor for label input.\n",
    "    \"\"\"\n",
    "    return tf.placeholder(tf.float32, shape=[None, n_classes], name=\"y\")\n",
    "\n",
    "\n",
    "def neural_net_keep_prob_input():\n",
    "    \"\"\"\n",
    "    Return a Tensor for keep probability\n",
    "    : return: Tensor for keep probability.\n",
    "    \"\"\"\n",
    "    return tf.placeholder(tf.float32, name=\"keep_prob\")\n",
    "\n",
    "\n",
    "\"\"\"\n",
    "DON'T MODIFY ANYTHING IN THIS CELL THAT IS BELOW THIS LINE\n",
    "\"\"\"\n",
    "tf.reset_default_graph()\n",
    "tests.test_nn_image_inputs(neural_net_image_input)\n",
    "tests.test_nn_label_inputs(neural_net_label_input)\n",
    "tests.test_nn_keep_prob_inputs(neural_net_keep_prob_input)"
   ]
  },
  {
   "cell_type": "markdown",
   "metadata": {
    "deletable": true,
    "editable": true
   },
   "source": [
    "### Convolution and Max Pooling Layer\n",
    "Convolution layers have a lot of success with images. For this code cell, you should implement the function `conv2d_maxpool` to apply convolution then max pooling:\n",
    "* Create the weight and bias using `conv_ksize`, `conv_num_outputs` and the shape of `x_tensor`.\n",
    "* Apply a convolution to `x_tensor` using weight and `conv_strides`.\n",
    " * We recommend you use same padding, but you're welcome to use any padding.\n",
    "* Add bias\n",
    "* Add a nonlinear activation to the convolution.\n",
    "* Apply Max Pooling using `pool_ksize` and `pool_strides`.\n",
    " * We recommend you use same padding, but you're welcome to use any padding.\n",
    "\n",
    "**Note:** You **can't** use [TensorFlow Layers](https://www.tensorflow.org/api_docs/python/tf/layers) or [TensorFlow Layers (contrib)](https://www.tensorflow.org/api_guides/python/contrib.layers) for **this** layer, but you can still use TensorFlow's [Neural Network](https://www.tensorflow.org/api_docs/python/tf/nn) package. You may still use the shortcut option for all the **other** layers."
   ]
  },
  {
   "cell_type": "code",
   "execution_count": 13,
   "metadata": {
    "collapsed": false,
    "deletable": true,
    "editable": true
   },
   "outputs": [
    {
     "name": "stdout",
     "output_type": "stream",
     "text": [
      "Tests Passed\n"
     ]
    }
   ],
   "source": [
    "def conv2d_maxpool(x_tensor, conv_num_outputs, conv_ksize, conv_strides, pool_ksize, pool_strides):\n",
    "    \"\"\"\n",
    "    Apply convolution then max pooling to x_tensor\n",
    "    :param x_tensor: TensorFlow Tensor\n",
    "    :param conv_num_outputs: Number of outputs for the convolutional layer\n",
    "    :param conv_ksize: kernal size 2-D Tuple for the convolutional layer\n",
    "    :param conv_strides: Stride 2-D Tuple for convolution\n",
    "    :param pool_ksize: kernal size 2-D Tuple for pool\n",
    "    :param pool_strides: Stride 2-D Tuple for pool\n",
    "    : return: A tensor that represents convolution and max pooling of x_tensor\n",
    "    \"\"\"\n",
    "    \n",
    "    W = tf.Variable(tf.truncated_normal(\n",
    "      [conv_ksize[0], conv_ksize[1], x_tensor.shape.as_list()[3], conv_num_outputs],\n",
    "      mean=0,\n",
    "      stddev=.01\n",
    "    ))\n",
    "    \n",
    "    b = tf.Variable(tf.zeros(conv_num_outputs, dtype=tf.float32))\n",
    "    \n",
    "    net = tf.nn.conv2d(\n",
    "      x_tensor, \n",
    "      W, \n",
    "      strides=[1, conv_strides[0], conv_strides[1], 1],\n",
    "      padding='SAME'\n",
    "    )\n",
    "    net = tf.nn.bias_add(net, b)\n",
    "    \n",
    "    net = tf.nn.relu(net)\n",
    "    \n",
    "    return tf.nn.max_pool(\n",
    "      net,\n",
    "      ksize=[1, pool_ksize[0], pool_ksize[1], 1],\n",
    "      strides=[1, pool_strides[0], pool_strides[1], 1],\n",
    "      padding='SAME'\n",
    "    )\n",
    "\n",
    "\n",
    "\"\"\"\n",
    "DON'T MODIFY ANYTHING IN THIS CELL THAT IS BELOW THIS LINE\n",
    "\"\"\"\n",
    "tests.test_con_pool(conv2d_maxpool)"
   ]
  },
  {
   "cell_type": "markdown",
   "metadata": {
    "deletable": true,
    "editable": true
   },
   "source": [
    "### Flatten Layer\n",
    "Implement the `flatten` function to change the dimension of `x_tensor` from a 4-D tensor to a 2-D tensor.  The output should be the shape (*Batch Size*, *Flattened Image Size*). Shortcut option: you can use classes from the [TensorFlow Layers](https://www.tensorflow.org/api_docs/python/tf/layers) or [TensorFlow Layers (contrib)](https://www.tensorflow.org/api_guides/python/contrib.layers) packages for this layer. For more of a challenge, only use other TensorFlow packages."
   ]
  },
  {
   "cell_type": "code",
   "execution_count": 14,
   "metadata": {
    "collapsed": false,
    "deletable": true,
    "editable": true
   },
   "outputs": [
    {
     "name": "stdout",
     "output_type": "stream",
     "text": [
      "Tests Passed\n"
     ]
    }
   ],
   "source": [
    "def flatten(x_tensor):\n",
    "    \"\"\"\n",
    "    Flatten x_tensor to (Batch Size, Flattened Image Size)\n",
    "    : x_tensor: A tensor of size (Batch Size, ...), where ... are the image dimensions.\n",
    "    : return: A tensor of size (Batch Size, Flattened Image Size).\n",
    "    \"\"\"\n",
    "    size = x_tensor.shape.as_list()[1] * x_tensor.shape.as_list()[2] * x_tensor.shape.as_list()[3]\n",
    "    return tf.reshape(x_tensor, [-1, size])\n",
    "\n",
    "\n",
    "\"\"\"\n",
    "DON'T MODIFY ANYTHING IN THIS CELL THAT IS BELOW THIS LINE\n",
    "\"\"\"\n",
    "tests.test_flatten(flatten)"
   ]
  },
  {
   "cell_type": "markdown",
   "metadata": {
    "deletable": true,
    "editable": true
   },
   "source": [
    "### Fully-Connected Layer\n",
    "Implement the `fully_conn` function to apply a fully connected layer to `x_tensor` with the shape (*Batch Size*, *num_outputs*). Shortcut option: you can use classes from the [TensorFlow Layers](https://www.tensorflow.org/api_docs/python/tf/layers) or [TensorFlow Layers (contrib)](https://www.tensorflow.org/api_guides/python/contrib.layers) packages for this layer. For more of a challenge, only use other TensorFlow packages."
   ]
  },
  {
   "cell_type": "code",
   "execution_count": 15,
   "metadata": {
    "collapsed": false,
    "deletable": true,
    "editable": true
   },
   "outputs": [
    {
     "name": "stdout",
     "output_type": "stream",
     "text": [
      "Tests Passed\n"
     ]
    }
   ],
   "source": [
    "def fully_conn(x_tensor, num_outputs):\n",
    "    \"\"\"\n",
    "    Apply a fully connected layer to x_tensor using weight and bias\n",
    "    : x_tensor: A 2-D tensor where the first dimension is batch size.\n",
    "    : num_outputs: The number of output that the new tensor should be.\n",
    "    : return: A 2-D tensor where the second dimension is num_outputs.\n",
    "    \"\"\"\n",
    "    W = tf.Variable(tf.truncated_normal(\n",
    "      [x_tensor.shape.as_list()[1], num_outputs],\n",
    "      mean=0,\n",
    "      stddev=.01\n",
    "    ))\n",
    "    b = tf.Variable(tf.zeros(num_outputs))\n",
    "    return tf.nn.relu(tf.add(tf.matmul(x_tensor, W), b))\n",
    "\n",
    "\n",
    "\"\"\"\n",
    "DON'T MODIFY ANYTHING IN THIS CELL THAT IS BELOW THIS LINE\n",
    "\"\"\"\n",
    "tests.test_fully_conn(fully_conn)"
   ]
  },
  {
   "cell_type": "markdown",
   "metadata": {
    "deletable": true,
    "editable": true
   },
   "source": [
    "### Output Layer\n",
    "Implement the `output` function to apply a fully connected layer to `x_tensor` with the shape (*Batch Size*, *num_outputs*). Shortcut option: you can use classes from the [TensorFlow Layers](https://www.tensorflow.org/api_docs/python/tf/layers) or [TensorFlow Layers (contrib)](https://www.tensorflow.org/api_guides/python/contrib.layers) packages for this layer. For more of a challenge, only use other TensorFlow packages.\n",
    "\n",
    "**Note:** Activation, softmax, or cross entropy should **not** be applied to this."
   ]
  },
  {
   "cell_type": "code",
   "execution_count": 40,
   "metadata": {
    "collapsed": false,
    "deletable": true,
    "editable": true
   },
   "outputs": [
    {
     "name": "stdout",
     "output_type": "stream",
     "text": [
      "Tests Passed\n"
     ]
    }
   ],
   "source": [
    "def output(x_tensor, num_outputs):\n",
    "    \"\"\"\n",
    "    Apply a output layer to x_tensor using weight and bias\n",
    "    : x_tensor: A 2-D tensor where the first dimension is batch size.\n",
    "    : num_outputs: The number of output that the new tensor should be.\n",
    "    : return: A 2-D tensor where the second dimension is num_outputs.\n",
    "    \"\"\"\n",
    "    W = tf.Variable(tf.truncated_normal(\n",
    "      [x_tensor.shape.as_list()[1], num_outputs],\n",
    "      mean=0,\n",
    "      stddev=.01\n",
    "    ), name=\"output_w\")\n",
    "    b = tf.Variable(tf.zeros(num_outputs), name=\"output_b\")\n",
    "    return tf.add(tf.matmul(x_tensor, W), b)\n",
    "\n",
    "\n",
    "\"\"\"\n",
    "DON'T MODIFY ANYTHING IN THIS CELL THAT IS BELOW THIS LINE\n",
    "\"\"\"\n",
    "tests.test_output(output)"
   ]
  },
  {
   "cell_type": "markdown",
   "metadata": {
    "deletable": true,
    "editable": true
   },
   "source": [
    "### Create Convolutional Model\n",
    "Implement the function `conv_net` to create a convolutional neural network model. The function takes in a batch of images, `x`, and outputs logits.  Use the layers you created above to create this model:\n",
    "\n",
    "* Apply 1, 2, or 3 Convolution and Max Pool layers\n",
    "* Apply a Flatten Layer\n",
    "* Apply 1, 2, or 3 Fully Connected Layers\n",
    "* Apply an Output Layer\n",
    "* Return the output\n",
    "* Apply [TensorFlow's Dropout](https://www.tensorflow.org/api_docs/python/tf/nn/dropout) to one or more layers in the model using `keep_prob`. "
   ]
  },
  {
   "cell_type": "code",
   "execution_count": 51,
   "metadata": {
    "collapsed": false,
    "deletable": true,
    "editable": true
   },
   "outputs": [
    {
     "name": "stdout",
     "output_type": "stream",
     "text": [
      "Neural Network Built!\n"
     ]
    }
   ],
   "source": [
    "def conv_net(x, keep_prob):\n",
    "    \"\"\"\n",
    "    Create a convolutional neural network model\n",
    "    : x: Placeholder tensor that holds image data.\n",
    "    : keep_prob: Placeholder tensor that hold dropout keep probability.\n",
    "    : return: Tensor that represents logits\n",
    "    \"\"\"\n",
    "    net = conv2d_maxpool(\n",
    "      x,\n",
    "      32,\n",
    "      (3, 3),\n",
    "      (1, 1),\n",
    "      (2, 2),\n",
    "      (2, 2)\n",
    "    )\n",
    "    \n",
    "    net = tf.nn.dropout(net, keep_prob=keep_prob)\n",
    "    \n",
    "    net = conv2d_maxpool(\n",
    "      net,\n",
    "      64,\n",
    "      (3, 3),\n",
    "      (1, 1),\n",
    "      (2, 2),\n",
    "      (2, 2)\n",
    "    )\n",
    "    \n",
    "    net = tf.nn.dropout(net, keep_prob=keep_prob)\n",
    "    \n",
    "    net = conv2d_maxpool(\n",
    "      x,\n",
    "      128,\n",
    "      (3, 3),\n",
    "      (1, 1),\n",
    "      (2, 2),\n",
    "      (2, 2)\n",
    "    )\n",
    "    \n",
    "    net = tf.nn.dropout(net, keep_prob=keep_prob)\n",
    "    \n",
    "    net = flatten(net)\n",
    "    \n",
    "    net = fully_conn(net, 512)\n",
    "\n",
    "    net = tf.nn.dropout(net, keep_prob=keep_prob)\n",
    "    \n",
    "    net = fully_conn(net, 1024)\n",
    "    \n",
    "    net = tf.nn.dropout(net, keep_prob=keep_prob)\n",
    "    \n",
    "    return output(net, 10)\n",
    "\n",
    "\n",
    "\"\"\"\n",
    "DON'T MODIFY ANYTHING IN THIS CELL THAT IS BELOW THIS LINE\n",
    "\"\"\"\n",
    "\n",
    "##############################\n",
    "## Build the Neural Network ##\n",
    "##############################\n",
    "\n",
    "# Remove previous weights, bias, inputs, etc..\n",
    "tf.reset_default_graph()\n",
    "\n",
    "# Inputs\n",
    "x = neural_net_image_input((32, 32, 3))\n",
    "y = neural_net_label_input(10)\n",
    "keep_prob = neural_net_keep_prob_input()\n",
    "\n",
    "# Model\n",
    "logits = conv_net(x, keep_prob)\n",
    "\n",
    "# Name logits Tensor, so that is can be loaded from disk after training\n",
    "logits = tf.identity(logits, name='logits')\n",
    "\n",
    "# Loss and Optimizer\n",
    "cost = tf.reduce_mean(tf.nn.softmax_cross_entropy_with_logits(logits=logits, labels=y))\n",
    "optimizer = tf.train.AdamOptimizer().minimize(cost)\n",
    "\n",
    "# Accuracy\n",
    "correct_pred = tf.equal(tf.argmax(logits, 1), tf.argmax(y, 1))\n",
    "accuracy = tf.reduce_mean(tf.cast(correct_pred, tf.float32), name='accuracy')\n",
    "\n",
    "tests.test_conv_net(conv_net)"
   ]
  },
  {
   "cell_type": "markdown",
   "metadata": {
    "deletable": true,
    "editable": true
   },
   "source": [
    "## Train the Neural Network\n",
    "### Single Optimization\n",
    "Implement the function `train_neural_network` to do a single optimization.  The optimization should use `optimizer` to optimize in `session` with a `feed_dict` of the following:\n",
    "* `x` for image input\n",
    "* `y` for labels\n",
    "* `keep_prob` for keep probability for dropout\n",
    "\n",
    "This function will be called for each batch, so `tf.global_variables_initializer()` has already been called.\n",
    "\n",
    "Note: Nothing needs to be returned. This function is only optimizing the neural network."
   ]
  },
  {
   "cell_type": "code",
   "execution_count": 47,
   "metadata": {
    "collapsed": false,
    "deletable": true,
    "editable": true
   },
   "outputs": [
    {
     "name": "stdout",
     "output_type": "stream",
     "text": [
      "Tests Passed\n"
     ]
    }
   ],
   "source": [
    "def train_neural_network(session, optimizer, keep_probability, feature_batch, label_batch):\n",
    "    \"\"\"\n",
    "    Optimize the session on a batch of images and labels\n",
    "    : session: Current TensorFlow session\n",
    "    : optimizer: TensorFlow optimizer function\n",
    "    : keep_probability: keep probability\n",
    "    : feature_batch: Batch of Numpy image data\n",
    "    : label_batch: Batch of Numpy label data\n",
    "    \"\"\"\n",
    "    session.run(optimizer, feed_dict={\n",
    "        x: feature_batch,\n",
    "        y: label_batch,\n",
    "        keep_prob: keep_probability\n",
    "      })\n",
    "\n",
    "\n",
    "\"\"\"\n",
    "DON'T MODIFY ANYTHING IN THIS CELL THAT IS BELOW THIS LINE\n",
    "\"\"\"\n",
    "tests.test_train_nn(train_neural_network)"
   ]
  },
  {
   "cell_type": "markdown",
   "metadata": {
    "deletable": true,
    "editable": true
   },
   "source": [
    "### Show Stats\n",
    "Implement the function `print_stats` to print loss and validation accuracy.  Use the global variables `valid_features` and `valid_labels` to calculate validation accuracy.  Use a keep probability of `1.0` to calculate the loss and validation accuracy."
   ]
  },
  {
   "cell_type": "code",
   "execution_count": 19,
   "metadata": {
    "collapsed": false,
    "deletable": true,
    "editable": true
   },
   "outputs": [],
   "source": [
    "def print_stats(session, feature_batch, label_batch, cost, accuracy):\n",
    "    \"\"\"\n",
    "    Print information about loss and validation accuracy\n",
    "    : session: Current TensorFlow session\n",
    "    : feature_batch: Batch of Numpy image data\n",
    "    : label_batch: Batch of Numpy label data\n",
    "    : cost: TensorFlow cost function\n",
    "    : accuracy: TensorFlow accuracy function\n",
    "    \"\"\"\n",
    "    cost_out = session.run(cost, feed_dict={\n",
    "        x: feature_batch,\n",
    "        y: label_batch,\n",
    "        keep_prob: 1.0\n",
    "      })\n",
    "\n",
    "    accuracy_out = session.run(accuracy, feed_dict={\n",
    "        x: feature_batch,\n",
    "        y: label_batch,\n",
    "        keep_prob: 1.0\n",
    "      })\n",
    "\n",
    "    print('Cost: {:>10.4f} Accuracy: {:>.6f}'.format(cost_out, accuracy_out))"
   ]
  },
  {
   "cell_type": "markdown",
   "metadata": {
    "deletable": true,
    "editable": true
   },
   "source": [
    "### Hyperparameters\n",
    "Tune the following parameters:\n",
    "* Set `epochs` to the number of iterations until the network stops learning or start overfitting\n",
    "* Set `batch_size` to the highest number that your machine has memory for.  Most people set them to common sizes of memory:\n",
    " * 64\n",
    " * 128\n",
    " * 256\n",
    " * ...\n",
    "* Set `keep_probability` to the probability of keeping a node using dropout"
   ]
  },
  {
   "cell_type": "code",
   "execution_count": 38,
   "metadata": {
    "collapsed": true,
    "deletable": true,
    "editable": true
   },
   "outputs": [],
   "source": [
    "# TODO: Tune Parameters\n",
    "epochs = 50\n",
    "batch_size = 1024\n",
    "keep_probability = .5"
   ]
  },
  {
   "cell_type": "markdown",
   "metadata": {
    "deletable": true,
    "editable": true
   },
   "source": [
    "### Train on a Single CIFAR-10 Batch\n",
    "Instead of training the neural network on all the CIFAR-10 batches of data, let's use a single batch. This should save time while you iterate on the model to get a better accuracy.  Once the final validation accuracy is 50% or greater, run the model on all the data in the next section."
   ]
  },
  {
   "cell_type": "code",
   "execution_count": 52,
   "metadata": {
    "collapsed": false,
    "deletable": true,
    "editable": true
   },
   "outputs": [
    {
     "name": "stdout",
     "output_type": "stream",
     "text": [
      "Checking the Training on a Single Batch...\n",
      "Epoch  1, CIFAR-10 Batch 1:  Cost:     2.1444 Accuracy: 0.206683\n",
      "Epoch  2, CIFAR-10 Batch 1:  Cost:     2.1040 Accuracy: 0.224010\n",
      "Epoch  3, CIFAR-10 Batch 1:  Cost:     1.9923 Accuracy: 0.267327\n",
      "Epoch  4, CIFAR-10 Batch 1:  Cost:     1.9236 Accuracy: 0.297030\n",
      "Epoch  5, CIFAR-10 Batch 1:  Cost:     1.8604 Accuracy: 0.342822\n",
      "Epoch  6, CIFAR-10 Batch 1:  Cost:     1.7715 Accuracy: 0.357673\n",
      "Epoch  7, CIFAR-10 Batch 1:  Cost:     1.7273 Accuracy: 0.386139\n",
      "Epoch  8, CIFAR-10 Batch 1:  Cost:     1.6295 Accuracy: 0.402228\n",
      "Epoch  9, CIFAR-10 Batch 1:  Cost:     1.5573 Accuracy: 0.457921\n",
      "Epoch 10, CIFAR-10 Batch 1:  Cost:     1.5235 Accuracy: 0.467822\n",
      "Epoch 11, CIFAR-10 Batch 1:  Cost:     1.4718 Accuracy: 0.466584\n",
      "Epoch 12, CIFAR-10 Batch 1:  Cost:     1.4318 Accuracy: 0.474010\n",
      "Epoch 13, CIFAR-10 Batch 1:  Cost:     1.3459 Accuracy: 0.504950\n",
      "Epoch 14, CIFAR-10 Batch 1:  Cost:     1.2987 Accuracy: 0.527228\n",
      "Epoch 15, CIFAR-10 Batch 1:  Cost:     1.2751 Accuracy: 0.534653\n",
      "Epoch 16, CIFAR-10 Batch 1:  Cost:     1.2370 Accuracy: 0.555693\n",
      "Epoch 17, CIFAR-10 Batch 1:  Cost:     1.1509 Accuracy: 0.603960\n",
      "Epoch 18, CIFAR-10 Batch 1:  Cost:     1.1370 Accuracy: 0.607673\n",
      "Epoch 19, CIFAR-10 Batch 1:  Cost:     1.0896 Accuracy: 0.613861\n",
      "Epoch 20, CIFAR-10 Batch 1:  Cost:     1.0436 Accuracy: 0.642327\n",
      "Epoch 21, CIFAR-10 Batch 1:  Cost:     1.0187 Accuracy: 0.644802\n",
      "Epoch 22, CIFAR-10 Batch 1:  Cost:     0.9672 Accuracy: 0.668317\n",
      "Epoch 23, CIFAR-10 Batch 1:  Cost:     0.9485 Accuracy: 0.670792\n",
      "Epoch 24, CIFAR-10 Batch 1:  Cost:     0.9022 Accuracy: 0.688119\n",
      "Epoch 25, CIFAR-10 Batch 1:  Cost:     0.8586 Accuracy: 0.695545\n",
      "Epoch 26, CIFAR-10 Batch 1:  Cost:     0.8222 Accuracy: 0.712871\n",
      "Epoch 27, CIFAR-10 Batch 1:  Cost:     0.8492 Accuracy: 0.717822\n",
      "Epoch 28, CIFAR-10 Batch 1:  Cost:     0.7623 Accuracy: 0.756188\n",
      "Epoch 29, CIFAR-10 Batch 1:  Cost:     0.7115 Accuracy: 0.773515\n",
      "Epoch 30, CIFAR-10 Batch 1:  Cost:     0.6506 Accuracy: 0.794555\n",
      "Epoch 31, CIFAR-10 Batch 1:  Cost:     0.6259 Accuracy: 0.798267\n",
      "Epoch 32, CIFAR-10 Batch 1:  Cost:     0.6082 Accuracy: 0.813119\n",
      "Epoch 33, CIFAR-10 Batch 1:  Cost:     0.5717 Accuracy: 0.811881\n",
      "Epoch 34, CIFAR-10 Batch 1:  Cost:     0.5092 Accuracy: 0.850248\n",
      "Epoch 35, CIFAR-10 Batch 1:  Cost:     0.5217 Accuracy: 0.851485\n",
      "Epoch 36, CIFAR-10 Batch 1:  Cost:     0.4909 Accuracy: 0.849010\n",
      "Epoch 37, CIFAR-10 Batch 1:  Cost:     0.4171 Accuracy: 0.878713\n",
      "Epoch 38, CIFAR-10 Batch 1:  Cost:     0.4118 Accuracy: 0.888614\n",
      "Epoch 39, CIFAR-10 Batch 1:  Cost:     0.3924 Accuracy: 0.899752\n",
      "Epoch 40, CIFAR-10 Batch 1:  Cost:     0.3427 Accuracy: 0.909653\n",
      "Epoch 41, CIFAR-10 Batch 1:  Cost:     0.3164 Accuracy: 0.912129\n",
      "Epoch 42, CIFAR-10 Batch 1:  Cost:     0.3107 Accuracy: 0.919554\n",
      "Epoch 43, CIFAR-10 Batch 1:  Cost:     0.2744 Accuracy: 0.926980\n",
      "Epoch 44, CIFAR-10 Batch 1:  Cost:     0.2502 Accuracy: 0.941832\n",
      "Epoch 45, CIFAR-10 Batch 1:  Cost:     0.2562 Accuracy: 0.941832\n",
      "Epoch 46, CIFAR-10 Batch 1:  Cost:     0.2366 Accuracy: 0.950495\n",
      "Epoch 47, CIFAR-10 Batch 1:  Cost:     0.1967 Accuracy: 0.954208\n",
      "Epoch 48, CIFAR-10 Batch 1:  Cost:     0.1807 Accuracy: 0.952970\n",
      "Epoch 49, CIFAR-10 Batch 1:  Cost:     0.1649 Accuracy: 0.957921\n",
      "Epoch 50, CIFAR-10 Batch 1:  Cost:     0.1604 Accuracy: 0.959158\n"
     ]
    }
   ],
   "source": [
    "\"\"\"\n",
    "DON'T MODIFY ANYTHING IN THIS CELL\n",
    "\"\"\"\n",
    "print('Checking the Training on a Single Batch...')\n",
    "with tf.Session() as sess:\n",
    "    # Initializing the variables\n",
    "    sess.run(tf.global_variables_initializer())\n",
    "    \n",
    "    # Training cycle\n",
    "    for epoch in range(epochs):\n",
    "        batch_i = 1\n",
    "        for batch_features, batch_labels in helper.load_preprocess_training_batch(batch_i, batch_size):\n",
    "            train_neural_network(sess, optimizer, keep_probability, batch_features, batch_labels)\n",
    "        print('Epoch {:>2}, CIFAR-10 Batch {}:  '.format(epoch + 1, batch_i), end='')\n",
    "        print_stats(sess, batch_features, batch_labels, cost, accuracy)"
   ]
  },
  {
   "cell_type": "markdown",
   "metadata": {
    "deletable": true,
    "editable": true
   },
   "source": [
    "### Fully Train the Model\n",
    "Now that you got a good accuracy with a single CIFAR-10 batch, try it with all five batches."
   ]
  },
  {
   "cell_type": "code",
   "execution_count": null,
   "metadata": {
    "collapsed": false,
    "deletable": true,
    "editable": true
   },
   "outputs": [
    {
     "name": "stdout",
     "output_type": "stream",
     "text": [
      "Training...\n",
      "Epoch  1, CIFAR-10 Batch 1:  Cost:     2.1756 Accuracy: 0.212871\n",
      "Epoch  1, CIFAR-10 Batch 2:  Cost:     2.0614 Accuracy: 0.219059\n",
      "Epoch  1, CIFAR-10 Batch 3:  Cost:     1.9608 Accuracy: 0.264851\n",
      "Epoch  1, CIFAR-10 Batch 4:  Cost:     1.8687 Accuracy: 0.316832\n",
      "Epoch  1, CIFAR-10 Batch 5:  Cost:     1.7920 Accuracy: 0.336634\n",
      "Epoch  2, CIFAR-10 Batch 1:  Cost:     1.7681 Accuracy: 0.363861\n",
      "Epoch  2, CIFAR-10 Batch 2:  Cost:     1.7375 Accuracy: 0.357673\n",
      "Epoch  2, CIFAR-10 Batch 3:  Cost:     1.5636 Accuracy: 0.434406\n",
      "Epoch  2, CIFAR-10 Batch 4:  Cost:     1.5530 Accuracy: 0.448020\n",
      "Epoch  2, CIFAR-10 Batch 5:  Cost:     1.5212 Accuracy: 0.430693\n",
      "Epoch  3, CIFAR-10 Batch 1:  Cost:     1.4972 Accuracy: 0.449257\n",
      "Epoch  3, CIFAR-10 Batch 2:  Cost:     1.4907 Accuracy: 0.464109\n",
      "Epoch  3, CIFAR-10 Batch 3:  Cost:     1.3242 Accuracy: 0.501238\n",
      "Epoch  3, CIFAR-10 Batch 4:  Cost:     1.3402 Accuracy: 0.502475\n",
      "Epoch  3, CIFAR-10 Batch 5:  Cost:     1.3483 Accuracy: 0.512376\n",
      "Epoch  4, CIFAR-10 Batch 1:  Cost:     1.3445 Accuracy: 0.509901\n",
      "Epoch  4, CIFAR-10 Batch 2:  Cost:     1.2944 Accuracy: 0.524752\n",
      "Epoch  4, CIFAR-10 Batch 3:  Cost:     1.2076 Accuracy: 0.548267\n",
      "Epoch  4, CIFAR-10 Batch 4:  Cost:     1.2118 Accuracy: 0.558168\n",
      "Epoch  4, CIFAR-10 Batch 5:  Cost:     1.2355 Accuracy: 0.555693\n",
      "Epoch  5, CIFAR-10 Batch 1:  Cost:     1.2193 Accuracy: 0.551980\n",
      "Epoch  5, CIFAR-10 Batch 2:  Cost:     1.2391 Accuracy: 0.554455\n",
      "Epoch  5, CIFAR-10 Batch 3:  Cost:     1.1364 Accuracy: 0.581683\n",
      "Epoch  5, CIFAR-10 Batch 4:  Cost:     1.1254 Accuracy: 0.603960\n",
      "Epoch  5, CIFAR-10 Batch 5:  Cost:     1.1225 Accuracy: 0.600248\n",
      "Epoch  6, CIFAR-10 Batch 1:  Cost:     1.1456 Accuracy: 0.597772\n",
      "Epoch  6, CIFAR-10 Batch 2:  Cost:     1.1589 Accuracy: 0.590347\n",
      "Epoch  6, CIFAR-10 Batch 3:  Cost:     1.1059 Accuracy: 0.594059\n",
      "Epoch  6, CIFAR-10 Batch 4:  Cost:     1.0527 Accuracy: 0.626238\n",
      "Epoch  6, CIFAR-10 Batch 5:  Cost:     1.0595 Accuracy: 0.639851\n",
      "Epoch  7, CIFAR-10 Batch 1:  Cost:     1.0782 Accuracy: 0.634901\n",
      "Epoch  7, CIFAR-10 Batch 2:  Cost:     1.0509 Accuracy: 0.626238\n",
      "Epoch  7, CIFAR-10 Batch 3:  Cost:     0.9962 Accuracy: 0.650990\n",
      "Epoch  7, CIFAR-10 Batch 4:  Cost:     0.9783 Accuracy: 0.649752\n",
      "Epoch  7, CIFAR-10 Batch 5:  Cost:     0.9705 Accuracy: 0.664604\n",
      "Epoch  8, CIFAR-10 Batch 1:  Cost:     1.0086 Accuracy: 0.655941\n",
      "Epoch  8, CIFAR-10 Batch 2:  Cost:     0.9728 Accuracy: 0.667079\n",
      "Epoch  8, CIFAR-10 Batch 3:  Cost:     0.9211 Accuracy: 0.676980\n",
      "Epoch  8, CIFAR-10 Batch 4:  Cost:     0.9111 Accuracy: 0.689356\n",
      "Epoch  8, CIFAR-10 Batch 5:  Cost:     0.9165 Accuracy: 0.685644\n",
      "Epoch  9, CIFAR-10 Batch 1:  Cost:     0.9290 Accuracy: 0.698020\n",
      "Epoch  9, CIFAR-10 Batch 2:  Cost:     0.9215 Accuracy: 0.678218\n",
      "Epoch  9, CIFAR-10 Batch 3:  Cost:     0.8607 Accuracy: 0.688119\n",
      "Epoch  9, CIFAR-10 Batch 4:  Cost:     0.8624 Accuracy: 0.706683\n",
      "Epoch  9, CIFAR-10 Batch 5:  Cost:     0.8389 Accuracy: 0.705446\n",
      "Epoch 10, CIFAR-10 Batch 1:  Cost:     0.8750 Accuracy: 0.705446\n",
      "Epoch 10, CIFAR-10 Batch 2:  Cost:     0.8485 Accuracy: 0.715347\n",
      "Epoch 10, CIFAR-10 Batch 3:  Cost:     0.8188 Accuracy: 0.705446\n",
      "Epoch 10, CIFAR-10 Batch 4:  Cost:     0.8186 Accuracy: 0.721535\n",
      "Epoch 10, CIFAR-10 Batch 5:  Cost:     0.7993 Accuracy: 0.721535\n",
      "Epoch 11, CIFAR-10 Batch 1:  Cost:     0.8211 Accuracy: 0.722772\n",
      "Epoch 11, CIFAR-10 Batch 2:  Cost:     0.7992 Accuracy: 0.722772\n",
      "Epoch 11, CIFAR-10 Batch 3:  Cost:     0.7791 Accuracy: 0.726485\n",
      "Epoch 11, CIFAR-10 Batch 4:  Cost:     0.7720 Accuracy: 0.737624\n",
      "Epoch 11, CIFAR-10 Batch 5:  Cost:     0.7348 Accuracy: 0.751238\n",
      "Epoch 12, CIFAR-10 Batch 1:  Cost:     0.7914 Accuracy: 0.730198\n",
      "Epoch 12, CIFAR-10 Batch 2:  Cost:     0.7665 Accuracy: 0.750000\n",
      "Epoch 12, CIFAR-10 Batch 3:  Cost:     0.7067 Accuracy: 0.754951\n",
      "Epoch 12, CIFAR-10 Batch 4:  Cost:     0.7202 Accuracy: 0.757426\n",
      "Epoch 12, CIFAR-10 Batch 5:  Cost:     0.6933 Accuracy: 0.778465\n",
      "Epoch 13, CIFAR-10 Batch 1:  Cost:     0.7398 Accuracy: 0.743812\n",
      "Epoch 13, CIFAR-10 Batch 2:  Cost:     0.7477 Accuracy: 0.753713\n",
      "Epoch 13, CIFAR-10 Batch 3:  Cost:     0.6776 Accuracy: 0.768564\n",
      "Epoch 13, CIFAR-10 Batch 4:  Cost:     0.6766 Accuracy: 0.775990\n",
      "Epoch 13, CIFAR-10 Batch 5:  Cost:     0.6559 Accuracy: 0.778465\n",
      "Epoch 14, CIFAR-10 Batch 1:  Cost:     0.6869 Accuracy: 0.772277\n",
      "Epoch 14, CIFAR-10 Batch 2:  Cost:     0.6589 Accuracy: 0.780941\n",
      "Epoch 14, CIFAR-10 Batch 3:  Cost:     0.6129 Accuracy: 0.794554\n",
      "Epoch 14, CIFAR-10 Batch 4:  Cost:     0.6531 Accuracy: 0.793317\n",
      "Epoch 14, CIFAR-10 Batch 5:  Cost:     0.6058 Accuracy: 0.784653\n",
      "Epoch 15, CIFAR-10 Batch 1:  Cost:     0.6560 Accuracy: 0.777228\n",
      "Epoch 15, CIFAR-10 Batch 2:  Cost:     0.6193 Accuracy: 0.798267\n",
      "Epoch 15, CIFAR-10 Batch 3:  Cost:     0.5736 Accuracy: 0.814356\n",
      "Epoch 15, CIFAR-10 Batch 4:  Cost:     0.6014 Accuracy: 0.813119\n",
      "Epoch 15, CIFAR-10 Batch 5:  Cost:     0.5679 Accuracy: 0.804455\n",
      "Epoch 16, CIFAR-10 Batch 1:  Cost:     0.6133 Accuracy: 0.799505\n",
      "Epoch 16, CIFAR-10 Batch 2:  Cost:     0.5951 Accuracy: 0.813119\n",
      "Epoch 16, CIFAR-10 Batch 3:  Cost:     0.5288 Accuracy: 0.827970\n",
      "Epoch 16, CIFAR-10 Batch 4:  Cost:     0.5538 Accuracy: 0.837871\n",
      "Epoch 16, CIFAR-10 Batch 5:  Cost:     0.5598 Accuracy: 0.819307\n",
      "Epoch 17, CIFAR-10 Batch 1:  Cost:     0.6153 Accuracy: 0.792079\n",
      "Epoch 17, CIFAR-10 Batch 2:  Cost:     0.5651 Accuracy: 0.827970\n",
      "Epoch 17, CIFAR-10 Batch 3:  Cost:     0.4904 Accuracy: 0.830446\n",
      "Epoch 17, CIFAR-10 Batch 4:  Cost:     0.5291 Accuracy: 0.837871\n",
      "Epoch 17, CIFAR-10 Batch 5:  Cost:     0.5054 Accuracy: 0.847772\n",
      "Epoch 18, CIFAR-10 Batch 1:  Cost:     0.5771 Accuracy: 0.816832\n",
      "Epoch 18, CIFAR-10 Batch 2:  Cost:     0.5631 Accuracy: 0.826733\n",
      "Epoch 18, CIFAR-10 Batch 3:  Cost:     0.4876 Accuracy: 0.849010\n",
      "Epoch 18, CIFAR-10 Batch 4:  Cost:     0.5097 Accuracy: 0.839109\n",
      "Epoch 18, CIFAR-10 Batch 5:  Cost:     0.4987 Accuracy: 0.837871\n",
      "Epoch 19, CIFAR-10 Batch 1:  Cost:     0.5496 Accuracy: 0.816832\n",
      "Epoch 19, CIFAR-10 Batch 2:  Cost:     0.5312 Accuracy: 0.830446\n",
      "Epoch 19, CIFAR-10 Batch 3:  Cost:     0.4633 Accuracy: 0.856436\n",
      "Epoch 19, CIFAR-10 Batch 4:  Cost:     0.4652 Accuracy: 0.870049\n",
      "Epoch 19, CIFAR-10 Batch 5:  Cost:     0.4382 Accuracy: 0.876238\n",
      "Epoch 20, CIFAR-10 Batch 1:  Cost:     0.4933 Accuracy: 0.844059\n",
      "Epoch 20, CIFAR-10 Batch 2:  Cost:     0.4627 Accuracy: 0.856436\n",
      "Epoch 20, CIFAR-10 Batch 3:  Cost:     0.4277 Accuracy: 0.872525\n",
      "Epoch 20, CIFAR-10 Batch 4:  Cost:     0.4219 Accuracy: 0.884901\n",
      "Epoch 20, CIFAR-10 Batch 5:  Cost:     0.4167 Accuracy: 0.875000\n",
      "Epoch 21, CIFAR-10 Batch 1:  Cost:     0.4519 Accuracy: 0.851485\n",
      "Epoch 21, CIFAR-10 Batch 2:  Cost:     0.4399 Accuracy: 0.878713\n",
      "Epoch 21, CIFAR-10 Batch 3:  Cost:     0.4060 Accuracy: 0.875000\n",
      "Epoch 21, CIFAR-10 Batch 4:  Cost:     0.4173 Accuracy: 0.875000\n",
      "Epoch 21, CIFAR-10 Batch 5:  Cost:     0.3767 Accuracy: 0.899752\n",
      "Epoch 22, CIFAR-10 Batch 1:  Cost:     0.4011 Accuracy: 0.873762\n",
      "Epoch 22, CIFAR-10 Batch 2:  Cost:     0.4083 Accuracy: 0.881188\n",
      "Epoch 22, CIFAR-10 Batch 3:  Cost:     0.3881 Accuracy: 0.883663\n",
      "Epoch 22, CIFAR-10 Batch 4:  Cost:     0.3610 Accuracy: 0.899752\n",
      "Epoch 22, CIFAR-10 Batch 5:  Cost:     0.3442 Accuracy: 0.904703\n",
      "Epoch 23, CIFAR-10 Batch 1:  Cost:     0.3754 Accuracy: 0.894802\n",
      "Epoch 23, CIFAR-10 Batch 2:  Cost:     0.3823 Accuracy: 0.896040\n",
      "Epoch 23, CIFAR-10 Batch 3:  Cost:     0.3598 Accuracy: 0.886139\n",
      "Epoch 23, CIFAR-10 Batch 4:  Cost:     0.3385 Accuracy: 0.905941\n",
      "Epoch 23, CIFAR-10 Batch 5:  Cost:     0.3134 Accuracy: 0.899752\n",
      "Epoch 24, CIFAR-10 Batch 1:  Cost:     0.3486 Accuracy: 0.897277\n",
      "Epoch 24, CIFAR-10 Batch 2:  Cost:     0.3426 Accuracy: 0.903465\n",
      "Epoch 24, CIFAR-10 Batch 3:  Cost:     0.3421 Accuracy: 0.889851\n",
      "Epoch 24, CIFAR-10 Batch 4:  Cost:     0.3282 Accuracy: 0.918317\n",
      "Epoch 24, CIFAR-10 Batch 5:  Cost:     0.2944 Accuracy: 0.924505\n",
      "Epoch 25, CIFAR-10 Batch 1:  Cost:     0.3250 Accuracy: 0.920792\n",
      "Epoch 25, CIFAR-10 Batch 2:  Cost:     0.3336 Accuracy: 0.902228\n",
      "Epoch 25, CIFAR-10 Batch 3:  Cost:     0.2972 Accuracy: 0.915842\n",
      "Epoch 25, CIFAR-10 Batch 4:  Cost:     0.3088 Accuracy: 0.919554\n",
      "Epoch 25, CIFAR-10 Batch 5:  Cost:     0.2755 Accuracy: 0.922030\n",
      "Epoch 26, CIFAR-10 Batch 1:  Cost:     0.3164 Accuracy: 0.909653\n",
      "Epoch 26, CIFAR-10 Batch 2:  Cost:     0.3471 Accuracy: 0.898515\n",
      "Epoch 26, CIFAR-10 Batch 3:  Cost:     0.3034 Accuracy: 0.910891\n",
      "Epoch 26, CIFAR-10 Batch 4:  Cost:     0.2832 Accuracy: 0.936881\n",
      "Epoch 26, CIFAR-10 Batch 5:  Cost:     0.2744 Accuracy: 0.935644\n",
      "Epoch 27, CIFAR-10 Batch 1:  Cost:     0.3131 Accuracy: 0.920792\n",
      "Epoch 27, CIFAR-10 Batch 2:  Cost:     0.3117 Accuracy: 0.903465\n",
      "Epoch 27, CIFAR-10 Batch 3:  Cost:     0.2859 Accuracy: 0.924505\n",
      "Epoch 27, CIFAR-10 Batch 4:  Cost:     0.2681 Accuracy: 0.940594\n",
      "Epoch 27, CIFAR-10 Batch 5:  Cost:     0.2394 Accuracy: 0.945544\n",
      "Epoch 28, CIFAR-10 Batch 1:  Cost:     0.2963 Accuracy: 0.912129\n",
      "Epoch 28, CIFAR-10 Batch 2:  Cost:     0.2921 Accuracy: 0.929455\n",
      "Epoch 28, CIFAR-10 Batch 3:  Cost:     0.2724 Accuracy: 0.935644\n",
      "Epoch 28, CIFAR-10 Batch 4:  Cost:     0.2478 Accuracy: 0.941832\n",
      "Epoch 28, CIFAR-10 Batch 5:  Cost:     0.2208 Accuracy: 0.944307\n",
      "Epoch 29, CIFAR-10 Batch 1:  Cost:     0.2648 Accuracy: 0.926980\n",
      "Epoch 29, CIFAR-10 Batch 2:  Cost:     0.2572 Accuracy: 0.933168\n",
      "Epoch 29, CIFAR-10 Batch 3:  Cost:     0.2265 Accuracy: 0.952970\n",
      "Epoch 29, CIFAR-10 Batch 4:  Cost:     0.2314 Accuracy: 0.941832\n",
      "Epoch 29, CIFAR-10 Batch 5:  Cost:     0.2121 Accuracy: 0.949257\n",
      "Epoch 30, CIFAR-10 Batch 1:  Cost:     0.2550 Accuracy: 0.931931\n",
      "Epoch 30, CIFAR-10 Batch 2:  Cost:     0.2493 Accuracy: 0.936881\n",
      "Epoch 30, CIFAR-10 Batch 3:  Cost:     0.2157 Accuracy: 0.951733\n",
      "Epoch 30, CIFAR-10 Batch 4:  Cost:     0.2177 Accuracy: 0.949257\n",
      "Epoch 30, CIFAR-10 Batch 5:  Cost:     0.2313 Accuracy: 0.940594\n",
      "Epoch 31, CIFAR-10 Batch 1:  Cost:     0.2423 Accuracy: 0.943069\n",
      "Epoch 31, CIFAR-10 Batch 2:  Cost:     0.2524 Accuracy: 0.936881\n",
      "Epoch 31, CIFAR-10 Batch 3:  Cost:     0.2200 Accuracy: 0.954208\n",
      "Epoch 31, CIFAR-10 Batch 4:  Cost:     0.2257 Accuracy: 0.944307\n",
      "Epoch 31, CIFAR-10 Batch 5:  Cost:     0.2018 Accuracy: 0.950495\n",
      "Epoch 32, CIFAR-10 Batch 1:  Cost:     0.2130 Accuracy: 0.955446\n",
      "Epoch 32, CIFAR-10 Batch 2:  Cost:     0.2475 Accuracy: 0.928218\n",
      "Epoch 32, CIFAR-10 Batch 3:  Cost:     0.2117 Accuracy: 0.949257\n",
      "Epoch 32, CIFAR-10 Batch 4:  Cost:     0.1982 Accuracy: 0.959158\n",
      "Epoch 32, CIFAR-10 Batch 5:  Cost:     0.1953 Accuracy: 0.955446\n",
      "Epoch 33, CIFAR-10 Batch 1:  Cost:     0.2045 Accuracy: 0.949257\n",
      "Epoch 33, CIFAR-10 Batch 2:  Cost:     0.2091 Accuracy: 0.946782\n",
      "Epoch 33, CIFAR-10 Batch 3:  Cost:     0.1889 Accuracy: 0.964109\n",
      "Epoch 33, CIFAR-10 Batch 4:  Cost:     0.2019 Accuracy: 0.954208\n",
      "Epoch 33, CIFAR-10 Batch 5:  Cost:     0.1705 Accuracy: 0.970297\n",
      "Epoch 34, CIFAR-10 Batch 1:  Cost:     0.1902 Accuracy: 0.964109\n",
      "Epoch 34, CIFAR-10 Batch 2:  Cost:     0.1923 Accuracy: 0.954208\n",
      "Epoch 34, CIFAR-10 Batch 3:  Cost:     0.1920 Accuracy: 0.961634\n",
      "Epoch 34, CIFAR-10 Batch 4:  Cost:     0.1842 Accuracy: 0.960396\n",
      "Epoch 34, CIFAR-10 Batch 5:  Cost:     0.1587 Accuracy: 0.962871\n",
      "Epoch 35, CIFAR-10 Batch 1:  Cost:     0.1630 Accuracy: 0.965346\n",
      "Epoch 35, CIFAR-10 Batch 2:  Cost:     0.1812 Accuracy: 0.964109\n",
      "Epoch 35, CIFAR-10 Batch 3:  Cost:     0.1610 Accuracy: 0.969059\n",
      "Epoch 35, CIFAR-10 Batch 4:  Cost:     0.1674 Accuracy: 0.966584\n",
      "Epoch 35, CIFAR-10 Batch 5:  Cost:     0.1531 Accuracy: 0.970297\n",
      "Epoch 36, CIFAR-10 Batch 1:  Cost:     0.1602 Accuracy: 0.970297\n",
      "Epoch 36, CIFAR-10 Batch 2:  Cost:     0.1908 Accuracy: 0.965346\n",
      "Epoch 36, CIFAR-10 Batch 3:  Cost:     0.1554 Accuracy: 0.971535\n",
      "Epoch 36, CIFAR-10 Batch 4:  Cost:     0.1679 Accuracy: 0.966584\n",
      "Epoch 36, CIFAR-10 Batch 5:  Cost:     0.1511 Accuracy: 0.975248\n",
      "Epoch 37, CIFAR-10 Batch 1:  Cost:     0.1595 Accuracy: 0.967822\n",
      "Epoch 37, CIFAR-10 Batch 2:  Cost:     0.1742 Accuracy: 0.964109\n",
      "Epoch 37, CIFAR-10 Batch 3:  Cost:     0.1571 Accuracy: 0.974010\n",
      "Epoch 37, CIFAR-10 Batch 4:  Cost:     0.1504 Accuracy: 0.972772\n",
      "Epoch 37, CIFAR-10 Batch 5:  Cost:     0.1264 Accuracy: 0.977723\n",
      "Epoch 38, CIFAR-10 Batch 1:  Cost:     0.1222 Accuracy: 0.974010\n",
      "Epoch 38, CIFAR-10 Batch 2:  Cost:     0.1547 Accuracy: 0.967822\n",
      "Epoch 38, CIFAR-10 Batch 3:  Cost:     0.1486 Accuracy: 0.971535\n",
      "Epoch 38, CIFAR-10 Batch 4:  Cost:     0.1450 Accuracy: 0.967822\n",
      "Epoch 38, CIFAR-10 Batch 5:  Cost:     0.1345 Accuracy: 0.975247\n",
      "Epoch 39, CIFAR-10 Batch 1:  Cost:     0.1302 Accuracy: 0.977723\n",
      "Epoch 39, CIFAR-10 Batch 2:  Cost:     0.1394 Accuracy: 0.977723\n",
      "Epoch 39, CIFAR-10 Batch 3:  Cost:     0.1266 Accuracy: 0.976485\n",
      "Epoch 39, CIFAR-10 Batch 4:  Cost:     0.1163 Accuracy: 0.975248\n",
      "Epoch 39, CIFAR-10 Batch 5:  Cost:     0.1229 Accuracy: 0.981436\n",
      "Epoch 40, CIFAR-10 Batch 1:  Cost:     0.1302 Accuracy: 0.980198\n",
      "Epoch 40, CIFAR-10 Batch 2:  Cost:     0.1423 Accuracy: 0.972772\n",
      "Epoch 40, CIFAR-10 Batch 3:  Cost:     0.1254 Accuracy: 0.980198\n",
      "Epoch 40, CIFAR-10 Batch 4:  Cost:     0.1096 Accuracy: 0.985148\n",
      "Epoch 40, CIFAR-10 Batch 5:  Cost:     0.1088 Accuracy: 0.983911\n",
      "Epoch 41, CIFAR-10 Batch 1:  Cost:     0.1111 Accuracy: 0.980198\n",
      "Epoch 41, CIFAR-10 Batch 2:  Cost:     0.1319 Accuracy: 0.977723\n",
      "Epoch 41, CIFAR-10 Batch 3:  Cost:     0.1177 Accuracy: 0.981436\n",
      "Epoch 41, CIFAR-10 Batch 4:  Cost:     0.1023 Accuracy: 0.983911\n",
      "Epoch 41, CIFAR-10 Batch 5:  Cost:     0.1029 Accuracy: 0.981436\n",
      "Epoch 42, CIFAR-10 Batch 1:  Cost:     0.1066 Accuracy: 0.981436\n",
      "Epoch 42, CIFAR-10 Batch 2:  Cost:     0.1191 Accuracy: 0.980198\n",
      "Epoch 42, CIFAR-10 Batch 3:  Cost:     0.1050 Accuracy: 0.983911\n",
      "Epoch 42, CIFAR-10 Batch 4:  Cost:     0.0992 Accuracy: 0.986386\n",
      "Epoch 42, CIFAR-10 Batch 5:  Cost:     0.0892 Accuracy: 0.986386\n",
      "Epoch 43, CIFAR-10 Batch 1:  Cost:     0.1020 Accuracy: 0.977723\n",
      "Epoch 43, CIFAR-10 Batch 2:  Cost:     0.1062 Accuracy: 0.986386\n",
      "Epoch 43, CIFAR-10 Batch 3:  Cost:     0.1099 Accuracy: 0.981436\n",
      "Epoch 43, CIFAR-10 Batch 4:  Cost:     0.0997 Accuracy: 0.982673\n",
      "Epoch 43, CIFAR-10 Batch 5:  Cost:     0.0929 Accuracy: 0.985148\n",
      "Epoch 44, CIFAR-10 Batch 1:  Cost:     0.0978 Accuracy: 0.981436\n",
      "Epoch 44, CIFAR-10 Batch 2:  Cost:     0.0960 Accuracy: 0.990099\n",
      "Epoch 44, CIFAR-10 Batch 3:  Cost:     0.1000 Accuracy: 0.978960\n",
      "Epoch 44, CIFAR-10 Batch 4:  Cost:     0.0918 Accuracy: 0.988861\n",
      "Epoch 44, CIFAR-10 Batch 5:  Cost:     0.0826 Accuracy: 0.991337\n",
      "Epoch 45, CIFAR-10 Batch 1:  Cost:     0.0927 Accuracy: 0.985148\n",
      "Epoch 45, CIFAR-10 Batch 2:  Cost:     0.0990 Accuracy: 0.987624\n",
      "Epoch 45, CIFAR-10 Batch 3:  Cost:     0.0924 Accuracy: 0.986386\n",
      "Epoch 45, CIFAR-10 Batch 4:  Cost:     0.0841 Accuracy: 0.987624\n",
      "Epoch 45, CIFAR-10 Batch 5:  Cost:     0.0759 Accuracy: 0.992574\n",
      "Epoch 46, CIFAR-10 Batch 1:  Cost:     0.0914 Accuracy: 0.985148\n",
      "Epoch 46, CIFAR-10 Batch 2:  Cost:     0.0905 Accuracy: 0.987624\n",
      "Epoch 46, CIFAR-10 Batch 3:  Cost:     0.0893 Accuracy: 0.987624\n",
      "Epoch 46, CIFAR-10 Batch 4:  Cost:     0.0779 Accuracy: 0.991337\n",
      "Epoch 46, CIFAR-10 Batch 5:  Cost:     0.0682 Accuracy: 0.995049\n",
      "Epoch 47, CIFAR-10 Batch 1:  Cost:     0.0791 Accuracy: 0.988861\n",
      "Epoch 47, CIFAR-10 Batch 2:  Cost:     0.0815 Accuracy: 0.990099\n",
      "Epoch 47, CIFAR-10 Batch 3:  Cost:     0.0883 Accuracy: 0.981436\n",
      "Epoch 47, CIFAR-10 Batch 4:  Cost:     0.0678 Accuracy: 0.993812\n",
      "Epoch 47, CIFAR-10 Batch 5:  Cost:     0.0639 Accuracy: 0.992574\n",
      "Epoch 48, CIFAR-10 Batch 1:  Cost:     0.0925 Accuracy: 0.982673\n",
      "Epoch 48, CIFAR-10 Batch 2:  Cost:     0.0795 Accuracy: 0.986386\n",
      "Epoch 48, CIFAR-10 Batch 3:  Cost:     0.0774 Accuracy: 0.990099\n",
      "Epoch 48, CIFAR-10 Batch 4:  Cost:     0.0669 Accuracy: 0.995049\n",
      "Epoch 48, CIFAR-10 Batch 5:  Cost:     0.0670 Accuracy: 0.996287\n",
      "Epoch 49, CIFAR-10 Batch 1:  Cost:     0.0973 Accuracy: 0.981436\n",
      "Epoch 49, CIFAR-10 Batch 2:  Cost:     0.0797 Accuracy: 0.990099\n",
      "Epoch 49, CIFAR-10 Batch 3:  Cost:     0.0778 Accuracy: 0.986386\n",
      "Epoch 49, CIFAR-10 Batch 4:  Cost:     0.0757 Accuracy: 0.992574\n"
     ]
    }
   ],
   "source": [
    "\"\"\"\n",
    "DON'T MODIFY ANYTHING IN THIS CELL\n",
    "\"\"\"\n",
    "save_model_path = './image_classification'\n",
    "\n",
    "print('Training...')\n",
    "with tf.Session() as sess:\n",
    "    # Initializing the variables\n",
    "    sess.run(tf.global_variables_initializer())\n",
    "    \n",
    "    # Training cycle\n",
    "    for epoch in range(epochs):\n",
    "        # Loop over all batches\n",
    "        n_batches = 5\n",
    "        for batch_i in range(1, n_batches + 1):\n",
    "            for batch_features, batch_labels in helper.load_preprocess_training_batch(batch_i, batch_size):\n",
    "                train_neural_network(sess, optimizer, keep_probability, batch_features, batch_labels)\n",
    "            print('Epoch {:>2}, CIFAR-10 Batch {}:  '.format(epoch + 1, batch_i), end='')\n",
    "            print_stats(sess, batch_features, batch_labels, cost, accuracy)\n",
    "            \n",
    "    # Save Model\n",
    "    saver = tf.train.Saver()\n",
    "    save_path = saver.save(sess, save_model_path)"
   ]
  },
  {
   "cell_type": "markdown",
   "metadata": {
    "deletable": true,
    "editable": true
   },
   "source": [
    "# Checkpoint\n",
    "The model has been saved to disk.\n",
    "## Test Model\n",
    "Test your model against the test dataset.  This will be your final accuracy. You should have an accuracy greater than 50%. If you don't, keep tweaking the model architecture and parameters."
   ]
  },
  {
   "cell_type": "code",
   "execution_count": 49,
   "metadata": {
    "collapsed": false,
    "deletable": true,
    "editable": true
   },
   "outputs": [
    {
     "name": "stdout",
     "output_type": "stream",
     "text": [
      "Testing Accuracy: 0.6622289478778839\n",
      "\n"
     ]
    },
    {
     "data": {
      "image/png": "[encoded data removed]",
      "text/plain": [
       "<matplotlib.figure.Figure at 0x7f1b8e7e0208>"
      ]
     },
     "metadata": {
      "image/png": {
       "height": 319,
       "width": 355
      }
     },
     "output_type": "display_data"
    }
   ],
   "source": [
    "\"\"\"\n",
    "DON'T MODIFY ANYTHING IN THIS CELL\n",
    "\"\"\"\n",
    "%matplotlib inline\n",
    "%config InlineBackend.figure_format = 'retina'\n",
    "\n",
    "import tensorflow as tf\n",
    "import pickle\n",
    "import helper\n",
    "import random\n",
    "\n",
    "# Set batch size if not already set\n",
    "try:\n",
    "    if batch_size:\n",
    "        pass\n",
    "except NameError:\n",
    "    batch_size = 64\n",
    "\n",
    "save_model_path = './image_classification'\n",
    "n_samples = 4\n",
    "top_n_predictions = 3\n",
    "\n",
    "def test_model():\n",
    "    \"\"\"\n",
    "    Test the saved model against the test dataset\n",
    "    \"\"\"\n",
    "\n",
    "    test_features, test_labels = pickle.load(open('preprocess_training.p', mode='rb'))\n",
    "    loaded_graph = tf.Graph()\n",
    "\n",
    "    with tf.Session(graph=loaded_graph) as sess:\n",
    "        # Load model\n",
    "        loader = tf.train.import_meta_graph(save_model_path + '.meta')\n",
    "        loader.restore(sess, save_model_path)\n",
    "\n",
    "        # Get Tensors from loaded model\n",
    "        loaded_x = loaded_graph.get_tensor_by_name('x:0')\n",
    "        loaded_y = loaded_graph.get_tensor_by_name('y:0')\n",
    "        loaded_keep_prob = loaded_graph.get_tensor_by_name('keep_prob:0')\n",
    "        loaded_logits = loaded_graph.get_tensor_by_name('logits:0')\n",
    "        loaded_acc = loaded_graph.get_tensor_by_name('accuracy:0')\n",
    "        \n",
    "        # Get accuracy in batches for memory limitations\n",
    "        test_batch_acc_total = 0\n",
    "        test_batch_count = 0\n",
    "        \n",
    "        for train_feature_batch, train_label_batch in helper.batch_features_labels(test_features, test_labels, batch_size):\n",
    "            test_batch_acc_total += sess.run(\n",
    "                loaded_acc,\n",
    "                feed_dict={loaded_x: train_feature_batch, loaded_y: train_label_batch, loaded_keep_prob: 1.0})\n",
    "            test_batch_count += 1\n",
    "\n",
    "        print('Testing Accuracy: {}\\n'.format(test_batch_acc_total/test_batch_count))\n",
    "\n",
    "        # Print Random Samples\n",
    "        random_test_features, random_test_labels = tuple(zip(*random.sample(list(zip(test_features, test_labels)), n_samples)))\n",
    "        random_test_predictions = sess.run(\n",
    "            tf.nn.top_k(tf.nn.softmax(loaded_logits), top_n_predictions),\n",
    "            feed_dict={loaded_x: random_test_features, loaded_y: random_test_labels, loaded_keep_prob: 1.0})\n",
    "        helper.display_image_predictions(random_test_features, random_test_labels, random_test_predictions)\n",
    "\n",
    "\n",
    "test_model()"
   ]
  },
  {
   "cell_type": "markdown",
   "metadata": {
    "deletable": true,
    "editable": true
   },
   "source": [
    "## Why 50-80% Accuracy?\n",
    "You might be wondering why you can't get an accuracy any higher. First things first, 50% isn't bad for a simple CNN.  Pure guessing would get you 10% accuracy. However, you might notice people are getting scores [well above 80%](http://rodrigob.github.io/are_we_there_yet/build/classification_datasets_results.html#43494641522d3130).  That's because we haven't taught you all there is to know about neural networks. We still need to cover a few more techniques.\n",
    "## Submitting This Project\n",
    "When submitting this project, make sure to run all the cells before saving the notebook.  Save the notebook file as \"dlnd_image_classification.ipynb\" and save it as a HTML file under \"File\" -> \"Download as\".  Include the \"helper.py\" and \"problem_unittests.py\" files in your submission."
   ]
  }
 ],
 "metadata": {
  "anaconda-cloud": {},
  "kernelspec": {
   "display_name": "Python 3",
   "language": "python",
   "name": "python3"
  },
  "language_info": {
   "codemirror_mode": {
    "name": "ipython",
    "version": 3
   },
   "file_extension": ".py",
   "mimetype": "text/x-python",
   "name": "python",
   "nbconvert_exporter": "python",
   "pygments_lexer": "ipython3",
   "version": "3.5.2"
  },
  "widgets": {
   "state": {},
   "version": "1.1.2"
  }
 },
 "nbformat": 4,
 "nbformat_minor": 0
}
